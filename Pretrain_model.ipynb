{
  "cells": [
    {
      "cell_type": "code",
      "execution_count": 1,
      "metadata": {
        "colab": {
          "base_uri": "https://localhost:8080/"
        },
        "id": "WEfFWyWE8-Vj",
        "outputId": "59443b27-0365-4b33-a775-e2966baf29d3"
      },
      "outputs": [
        {
          "output_type": "stream",
          "name": "stdout",
          "text": [
            "Mounted at /content/gdrive\n"
          ]
        }
      ],
      "source": [
        "from google.colab import drive\n",
        "drive.mount('/content/gdrive')"
      ]
    },
    {
      "cell_type": "code",
      "execution_count": 2,
      "metadata": {
        "colab": {
          "base_uri": "https://localhost:8080/"
        },
        "id": "NYBSRu9M9UY5",
        "outputId": "e1c1aea2-b0ec-4ec5-ab54-f40f9b6123eb"
      },
      "outputs": [
        {
          "output_type": "stream",
          "name": "stdout",
          "text": [
            "/content/gdrive/MyDrive/FYP\n"
          ]
        }
      ],
      "source": [
        "cd \"/content/gdrive/MyDrive/FYP\""
      ]
    },
    {
      "cell_type": "code",
      "execution_count": 3,
      "metadata": {
        "id": "Dv-iB8uM9XwV"
      },
      "outputs": [],
      "source": [
        "import os\n",
        "import numpy as np\n",
        "import matplotlib.pyplot as plt\n",
        "\n",
        "import torch\n",
        "import torch.nn as nn\n",
        "import torch.nn.functional as F\n",
        "\n",
        "import torchvision\n",
        "import torchvision.transforms as transforms\n",
        "import torchvision.models as models\n",
        "\n",
        "import torch.optim as optim\n",
        "from torch.utils.data import Dataset\n",
        "from torch.utils.data import DataLoader\n",
        "from torch.optim import lr_scheduler\n",
        "\n",
        "from PIL import Image\n",
        "from torchsummary import summary"
      ]
    },
    {
      "cell_type": "markdown",
      "metadata": {
        "id": "u8TPMzlr9jo0"
      },
      "source": [
        "1. Class Radiography Dataset"
      ]
    },
    {
      "cell_type": "code",
      "execution_count": 4,
      "metadata": {
        "id": "mHB3t0zH9Zto"
      },
      "outputs": [],
      "source": [
        "class RadiographyDataset(Dataset):\n",
        "\n",
        "    def __init__(self, root, transform=None):\n",
        "        super().__init__()\n",
        "        self.data = []\n",
        "        self.labels = []\n",
        "        self.transform = transform\n",
        "        self.classes   = os.listdir(root)\n",
        "\n",
        "        #get the training samples\n",
        "        for class_id, cls in enumerate(self.classes):\n",
        "\n",
        "          cls_folder = os.path.join(root, cls)\n",
        "\n",
        "          #get the training samples for the class 'cls'\n",
        "          for img_name in os.listdir(cls_folder):\n",
        "            self.data.append(os.path.join(cls_folder, img_name))\n",
        "            self.labels.append(class_id)\n",
        "\n",
        "    def __len__(self):\n",
        "        return len(self.data)\n",
        "\n",
        "    def __getitem__(self, idx):\n",
        "        \n",
        "        # get the image\n",
        "        image = Image.open(self.data[idx])\n",
        "        image = image.convert('RGB')\n",
        "        \n",
        "        # perform transformation\n",
        "        if self.transform is not None:\n",
        "          image = self.transform(image)\n",
        "        \n",
        "        # get the label\n",
        "        label = self.labels[idx]\n",
        "        \n",
        "        return image, label"
      ]
    },
    {
      "cell_type": "markdown",
      "metadata": {
        "id": "XHJTOY0L98rb"
      },
      "source": [
        "2. Create Efficientnet model"
      ]
    },
    {
      "cell_type": "code",
      "execution_count": 5,
      "metadata": {
        "colab": {
          "base_uri": "https://localhost:8080/"
        },
        "id": "zLwHDlm79-Wh",
        "outputId": "d6d52730-9154-4d5f-9451-560b752fd023"
      },
      "outputs": [
        {
          "output_type": "stream",
          "name": "stderr",
          "text": [
            "Downloading: \"https://download.pytorch.org/models/efficientnet_b0_rwightman-3dd342df.pth\" to /root/.cache/torch/hub/checkpoints/efficientnet_b0_rwightman-3dd342df.pth\n",
            "100%|██████████| 20.5M/20.5M [00:00<00:00, 69.2MB/s]\n"
          ]
        }
      ],
      "source": [
        "net = models.efficientnet_b0(weights='IMAGENET1K_V1')\n",
        "in_c = net.classifier[1].in_features \n",
        "net.classifier[1] = nn.Sequential(\n",
        "    nn.Linear(in_c, 1),\n",
        "    nn.Sigmoid()\n",
        ")"
      ]
    },
    {
      "cell_type": "markdown",
      "metadata": {
        "id": "OV1XyWNZATeb"
      },
      "source": [
        "The model layout"
      ]
    },
    {
      "cell_type": "code",
      "execution_count": 6,
      "metadata": {
        "colab": {
          "base_uri": "https://localhost:8080/"
        },
        "id": "8VkSbcqeATwN",
        "outputId": "4ab1f1eb-3923-42fe-e133-6f3f738c6aa4"
      },
      "outputs": [
        {
          "output_type": "stream",
          "name": "stdout",
          "text": [
            "----------------------------------------------------------------\n",
            "        Layer (type)               Output Shape         Param #\n",
            "================================================================\n",
            "            Conv2d-1         [-1, 32, 112, 112]             864\n",
            "       BatchNorm2d-2         [-1, 32, 112, 112]              64\n",
            "              SiLU-3         [-1, 32, 112, 112]               0\n",
            "            Conv2d-4         [-1, 32, 112, 112]             288\n",
            "       BatchNorm2d-5         [-1, 32, 112, 112]              64\n",
            "              SiLU-6         [-1, 32, 112, 112]               0\n",
            " AdaptiveAvgPool2d-7             [-1, 32, 1, 1]               0\n",
            "            Conv2d-8              [-1, 8, 1, 1]             264\n",
            "              SiLU-9              [-1, 8, 1, 1]               0\n",
            "           Conv2d-10             [-1, 32, 1, 1]             288\n",
            "          Sigmoid-11             [-1, 32, 1, 1]               0\n",
            "SqueezeExcitation-12         [-1, 32, 112, 112]               0\n",
            "           Conv2d-13         [-1, 16, 112, 112]             512\n",
            "      BatchNorm2d-14         [-1, 16, 112, 112]              32\n",
            "           MBConv-15         [-1, 16, 112, 112]               0\n",
            "           Conv2d-16         [-1, 96, 112, 112]           1,536\n",
            "      BatchNorm2d-17         [-1, 96, 112, 112]             192\n",
            "             SiLU-18         [-1, 96, 112, 112]               0\n",
            "           Conv2d-19           [-1, 96, 56, 56]             864\n",
            "      BatchNorm2d-20           [-1, 96, 56, 56]             192\n",
            "             SiLU-21           [-1, 96, 56, 56]               0\n",
            "AdaptiveAvgPool2d-22             [-1, 96, 1, 1]               0\n",
            "           Conv2d-23              [-1, 4, 1, 1]             388\n",
            "             SiLU-24              [-1, 4, 1, 1]               0\n",
            "           Conv2d-25             [-1, 96, 1, 1]             480\n",
            "          Sigmoid-26             [-1, 96, 1, 1]               0\n",
            "SqueezeExcitation-27           [-1, 96, 56, 56]               0\n",
            "           Conv2d-28           [-1, 24, 56, 56]           2,304\n",
            "      BatchNorm2d-29           [-1, 24, 56, 56]              48\n",
            "           MBConv-30           [-1, 24, 56, 56]               0\n",
            "           Conv2d-31          [-1, 144, 56, 56]           3,456\n",
            "      BatchNorm2d-32          [-1, 144, 56, 56]             288\n",
            "             SiLU-33          [-1, 144, 56, 56]               0\n",
            "           Conv2d-34          [-1, 144, 56, 56]           1,296\n",
            "      BatchNorm2d-35          [-1, 144, 56, 56]             288\n",
            "             SiLU-36          [-1, 144, 56, 56]               0\n",
            "AdaptiveAvgPool2d-37            [-1, 144, 1, 1]               0\n",
            "           Conv2d-38              [-1, 6, 1, 1]             870\n",
            "             SiLU-39              [-1, 6, 1, 1]               0\n",
            "           Conv2d-40            [-1, 144, 1, 1]           1,008\n",
            "          Sigmoid-41            [-1, 144, 1, 1]               0\n",
            "SqueezeExcitation-42          [-1, 144, 56, 56]               0\n",
            "           Conv2d-43           [-1, 24, 56, 56]           3,456\n",
            "      BatchNorm2d-44           [-1, 24, 56, 56]              48\n",
            "  StochasticDepth-45           [-1, 24, 56, 56]               0\n",
            "           MBConv-46           [-1, 24, 56, 56]               0\n",
            "           Conv2d-47          [-1, 144, 56, 56]           3,456\n",
            "      BatchNorm2d-48          [-1, 144, 56, 56]             288\n",
            "             SiLU-49          [-1, 144, 56, 56]               0\n",
            "           Conv2d-50          [-1, 144, 28, 28]           3,600\n",
            "      BatchNorm2d-51          [-1, 144, 28, 28]             288\n",
            "             SiLU-52          [-1, 144, 28, 28]               0\n",
            "AdaptiveAvgPool2d-53            [-1, 144, 1, 1]               0\n",
            "           Conv2d-54              [-1, 6, 1, 1]             870\n",
            "             SiLU-55              [-1, 6, 1, 1]               0\n",
            "           Conv2d-56            [-1, 144, 1, 1]           1,008\n",
            "          Sigmoid-57            [-1, 144, 1, 1]               0\n",
            "SqueezeExcitation-58          [-1, 144, 28, 28]               0\n",
            "           Conv2d-59           [-1, 40, 28, 28]           5,760\n",
            "      BatchNorm2d-60           [-1, 40, 28, 28]              80\n",
            "           MBConv-61           [-1, 40, 28, 28]               0\n",
            "           Conv2d-62          [-1, 240, 28, 28]           9,600\n",
            "      BatchNorm2d-63          [-1, 240, 28, 28]             480\n",
            "             SiLU-64          [-1, 240, 28, 28]               0\n",
            "           Conv2d-65          [-1, 240, 28, 28]           6,000\n",
            "      BatchNorm2d-66          [-1, 240, 28, 28]             480\n",
            "             SiLU-67          [-1, 240, 28, 28]               0\n",
            "AdaptiveAvgPool2d-68            [-1, 240, 1, 1]               0\n",
            "           Conv2d-69             [-1, 10, 1, 1]           2,410\n",
            "             SiLU-70             [-1, 10, 1, 1]               0\n",
            "           Conv2d-71            [-1, 240, 1, 1]           2,640\n",
            "          Sigmoid-72            [-1, 240, 1, 1]               0\n",
            "SqueezeExcitation-73          [-1, 240, 28, 28]               0\n",
            "           Conv2d-74           [-1, 40, 28, 28]           9,600\n",
            "      BatchNorm2d-75           [-1, 40, 28, 28]              80\n",
            "  StochasticDepth-76           [-1, 40, 28, 28]               0\n",
            "           MBConv-77           [-1, 40, 28, 28]               0\n",
            "           Conv2d-78          [-1, 240, 28, 28]           9,600\n",
            "      BatchNorm2d-79          [-1, 240, 28, 28]             480\n",
            "             SiLU-80          [-1, 240, 28, 28]               0\n",
            "           Conv2d-81          [-1, 240, 14, 14]           2,160\n",
            "      BatchNorm2d-82          [-1, 240, 14, 14]             480\n",
            "             SiLU-83          [-1, 240, 14, 14]               0\n",
            "AdaptiveAvgPool2d-84            [-1, 240, 1, 1]               0\n",
            "           Conv2d-85             [-1, 10, 1, 1]           2,410\n",
            "             SiLU-86             [-1, 10, 1, 1]               0\n",
            "           Conv2d-87            [-1, 240, 1, 1]           2,640\n",
            "          Sigmoid-88            [-1, 240, 1, 1]               0\n",
            "SqueezeExcitation-89          [-1, 240, 14, 14]               0\n",
            "           Conv2d-90           [-1, 80, 14, 14]          19,200\n",
            "      BatchNorm2d-91           [-1, 80, 14, 14]             160\n",
            "           MBConv-92           [-1, 80, 14, 14]               0\n",
            "           Conv2d-93          [-1, 480, 14, 14]          38,400\n",
            "      BatchNorm2d-94          [-1, 480, 14, 14]             960\n",
            "             SiLU-95          [-1, 480, 14, 14]               0\n",
            "           Conv2d-96          [-1, 480, 14, 14]           4,320\n",
            "      BatchNorm2d-97          [-1, 480, 14, 14]             960\n",
            "             SiLU-98          [-1, 480, 14, 14]               0\n",
            "AdaptiveAvgPool2d-99            [-1, 480, 1, 1]               0\n",
            "          Conv2d-100             [-1, 20, 1, 1]           9,620\n",
            "            SiLU-101             [-1, 20, 1, 1]               0\n",
            "          Conv2d-102            [-1, 480, 1, 1]          10,080\n",
            "         Sigmoid-103            [-1, 480, 1, 1]               0\n",
            "SqueezeExcitation-104          [-1, 480, 14, 14]               0\n",
            "          Conv2d-105           [-1, 80, 14, 14]          38,400\n",
            "     BatchNorm2d-106           [-1, 80, 14, 14]             160\n",
            " StochasticDepth-107           [-1, 80, 14, 14]               0\n",
            "          MBConv-108           [-1, 80, 14, 14]               0\n",
            "          Conv2d-109          [-1, 480, 14, 14]          38,400\n",
            "     BatchNorm2d-110          [-1, 480, 14, 14]             960\n",
            "            SiLU-111          [-1, 480, 14, 14]               0\n",
            "          Conv2d-112          [-1, 480, 14, 14]           4,320\n",
            "     BatchNorm2d-113          [-1, 480, 14, 14]             960\n",
            "            SiLU-114          [-1, 480, 14, 14]               0\n",
            "AdaptiveAvgPool2d-115            [-1, 480, 1, 1]               0\n",
            "          Conv2d-116             [-1, 20, 1, 1]           9,620\n",
            "            SiLU-117             [-1, 20, 1, 1]               0\n",
            "          Conv2d-118            [-1, 480, 1, 1]          10,080\n",
            "         Sigmoid-119            [-1, 480, 1, 1]               0\n",
            "SqueezeExcitation-120          [-1, 480, 14, 14]               0\n",
            "          Conv2d-121           [-1, 80, 14, 14]          38,400\n",
            "     BatchNorm2d-122           [-1, 80, 14, 14]             160\n",
            " StochasticDepth-123           [-1, 80, 14, 14]               0\n",
            "          MBConv-124           [-1, 80, 14, 14]               0\n",
            "          Conv2d-125          [-1, 480, 14, 14]          38,400\n",
            "     BatchNorm2d-126          [-1, 480, 14, 14]             960\n",
            "            SiLU-127          [-1, 480, 14, 14]               0\n",
            "          Conv2d-128          [-1, 480, 14, 14]          12,000\n",
            "     BatchNorm2d-129          [-1, 480, 14, 14]             960\n",
            "            SiLU-130          [-1, 480, 14, 14]               0\n",
            "AdaptiveAvgPool2d-131            [-1, 480, 1, 1]               0\n",
            "          Conv2d-132             [-1, 20, 1, 1]           9,620\n",
            "            SiLU-133             [-1, 20, 1, 1]               0\n",
            "          Conv2d-134            [-1, 480, 1, 1]          10,080\n",
            "         Sigmoid-135            [-1, 480, 1, 1]               0\n",
            "SqueezeExcitation-136          [-1, 480, 14, 14]               0\n",
            "          Conv2d-137          [-1, 112, 14, 14]          53,760\n",
            "     BatchNorm2d-138          [-1, 112, 14, 14]             224\n",
            "          MBConv-139          [-1, 112, 14, 14]               0\n",
            "          Conv2d-140          [-1, 672, 14, 14]          75,264\n",
            "     BatchNorm2d-141          [-1, 672, 14, 14]           1,344\n",
            "            SiLU-142          [-1, 672, 14, 14]               0\n",
            "          Conv2d-143          [-1, 672, 14, 14]          16,800\n",
            "     BatchNorm2d-144          [-1, 672, 14, 14]           1,344\n",
            "            SiLU-145          [-1, 672, 14, 14]               0\n",
            "AdaptiveAvgPool2d-146            [-1, 672, 1, 1]               0\n",
            "          Conv2d-147             [-1, 28, 1, 1]          18,844\n",
            "            SiLU-148             [-1, 28, 1, 1]               0\n",
            "          Conv2d-149            [-1, 672, 1, 1]          19,488\n",
            "         Sigmoid-150            [-1, 672, 1, 1]               0\n",
            "SqueezeExcitation-151          [-1, 672, 14, 14]               0\n",
            "          Conv2d-152          [-1, 112, 14, 14]          75,264\n",
            "     BatchNorm2d-153          [-1, 112, 14, 14]             224\n",
            " StochasticDepth-154          [-1, 112, 14, 14]               0\n",
            "          MBConv-155          [-1, 112, 14, 14]               0\n",
            "          Conv2d-156          [-1, 672, 14, 14]          75,264\n",
            "     BatchNorm2d-157          [-1, 672, 14, 14]           1,344\n",
            "            SiLU-158          [-1, 672, 14, 14]               0\n",
            "          Conv2d-159          [-1, 672, 14, 14]          16,800\n",
            "     BatchNorm2d-160          [-1, 672, 14, 14]           1,344\n",
            "            SiLU-161          [-1, 672, 14, 14]               0\n",
            "AdaptiveAvgPool2d-162            [-1, 672, 1, 1]               0\n",
            "          Conv2d-163             [-1, 28, 1, 1]          18,844\n",
            "            SiLU-164             [-1, 28, 1, 1]               0\n",
            "          Conv2d-165            [-1, 672, 1, 1]          19,488\n",
            "         Sigmoid-166            [-1, 672, 1, 1]               0\n",
            "SqueezeExcitation-167          [-1, 672, 14, 14]               0\n",
            "          Conv2d-168          [-1, 112, 14, 14]          75,264\n",
            "     BatchNorm2d-169          [-1, 112, 14, 14]             224\n",
            " StochasticDepth-170          [-1, 112, 14, 14]               0\n",
            "          MBConv-171          [-1, 112, 14, 14]               0\n",
            "          Conv2d-172          [-1, 672, 14, 14]          75,264\n",
            "     BatchNorm2d-173          [-1, 672, 14, 14]           1,344\n",
            "            SiLU-174          [-1, 672, 14, 14]               0\n",
            "          Conv2d-175            [-1, 672, 7, 7]          16,800\n",
            "     BatchNorm2d-176            [-1, 672, 7, 7]           1,344\n",
            "            SiLU-177            [-1, 672, 7, 7]               0\n",
            "AdaptiveAvgPool2d-178            [-1, 672, 1, 1]               0\n",
            "          Conv2d-179             [-1, 28, 1, 1]          18,844\n",
            "            SiLU-180             [-1, 28, 1, 1]               0\n",
            "          Conv2d-181            [-1, 672, 1, 1]          19,488\n",
            "         Sigmoid-182            [-1, 672, 1, 1]               0\n",
            "SqueezeExcitation-183            [-1, 672, 7, 7]               0\n",
            "          Conv2d-184            [-1, 192, 7, 7]         129,024\n",
            "     BatchNorm2d-185            [-1, 192, 7, 7]             384\n",
            "          MBConv-186            [-1, 192, 7, 7]               0\n",
            "          Conv2d-187           [-1, 1152, 7, 7]         221,184\n",
            "     BatchNorm2d-188           [-1, 1152, 7, 7]           2,304\n",
            "            SiLU-189           [-1, 1152, 7, 7]               0\n",
            "          Conv2d-190           [-1, 1152, 7, 7]          28,800\n",
            "     BatchNorm2d-191           [-1, 1152, 7, 7]           2,304\n",
            "            SiLU-192           [-1, 1152, 7, 7]               0\n",
            "AdaptiveAvgPool2d-193           [-1, 1152, 1, 1]               0\n",
            "          Conv2d-194             [-1, 48, 1, 1]          55,344\n",
            "            SiLU-195             [-1, 48, 1, 1]               0\n",
            "          Conv2d-196           [-1, 1152, 1, 1]          56,448\n",
            "         Sigmoid-197           [-1, 1152, 1, 1]               0\n",
            "SqueezeExcitation-198           [-1, 1152, 7, 7]               0\n",
            "          Conv2d-199            [-1, 192, 7, 7]         221,184\n",
            "     BatchNorm2d-200            [-1, 192, 7, 7]             384\n",
            " StochasticDepth-201            [-1, 192, 7, 7]               0\n",
            "          MBConv-202            [-1, 192, 7, 7]               0\n",
            "          Conv2d-203           [-1, 1152, 7, 7]         221,184\n",
            "     BatchNorm2d-204           [-1, 1152, 7, 7]           2,304\n",
            "            SiLU-205           [-1, 1152, 7, 7]               0\n",
            "          Conv2d-206           [-1, 1152, 7, 7]          28,800\n",
            "     BatchNorm2d-207           [-1, 1152, 7, 7]           2,304\n",
            "            SiLU-208           [-1, 1152, 7, 7]               0\n",
            "AdaptiveAvgPool2d-209           [-1, 1152, 1, 1]               0\n",
            "          Conv2d-210             [-1, 48, 1, 1]          55,344\n",
            "            SiLU-211             [-1, 48, 1, 1]               0\n",
            "          Conv2d-212           [-1, 1152, 1, 1]          56,448\n",
            "         Sigmoid-213           [-1, 1152, 1, 1]               0\n",
            "SqueezeExcitation-214           [-1, 1152, 7, 7]               0\n",
            "          Conv2d-215            [-1, 192, 7, 7]         221,184\n",
            "     BatchNorm2d-216            [-1, 192, 7, 7]             384\n",
            " StochasticDepth-217            [-1, 192, 7, 7]               0\n",
            "          MBConv-218            [-1, 192, 7, 7]               0\n",
            "          Conv2d-219           [-1, 1152, 7, 7]         221,184\n",
            "     BatchNorm2d-220           [-1, 1152, 7, 7]           2,304\n",
            "            SiLU-221           [-1, 1152, 7, 7]               0\n",
            "          Conv2d-222           [-1, 1152, 7, 7]          28,800\n",
            "     BatchNorm2d-223           [-1, 1152, 7, 7]           2,304\n",
            "            SiLU-224           [-1, 1152, 7, 7]               0\n",
            "AdaptiveAvgPool2d-225           [-1, 1152, 1, 1]               0\n",
            "          Conv2d-226             [-1, 48, 1, 1]          55,344\n",
            "            SiLU-227             [-1, 48, 1, 1]               0\n",
            "          Conv2d-228           [-1, 1152, 1, 1]          56,448\n",
            "         Sigmoid-229           [-1, 1152, 1, 1]               0\n",
            "SqueezeExcitation-230           [-1, 1152, 7, 7]               0\n",
            "          Conv2d-231            [-1, 192, 7, 7]         221,184\n",
            "     BatchNorm2d-232            [-1, 192, 7, 7]             384\n",
            " StochasticDepth-233            [-1, 192, 7, 7]               0\n",
            "          MBConv-234            [-1, 192, 7, 7]               0\n",
            "          Conv2d-235           [-1, 1152, 7, 7]         221,184\n",
            "     BatchNorm2d-236           [-1, 1152, 7, 7]           2,304\n",
            "            SiLU-237           [-1, 1152, 7, 7]               0\n",
            "          Conv2d-238           [-1, 1152, 7, 7]          10,368\n",
            "     BatchNorm2d-239           [-1, 1152, 7, 7]           2,304\n",
            "            SiLU-240           [-1, 1152, 7, 7]               0\n",
            "AdaptiveAvgPool2d-241           [-1, 1152, 1, 1]               0\n",
            "          Conv2d-242             [-1, 48, 1, 1]          55,344\n",
            "            SiLU-243             [-1, 48, 1, 1]               0\n",
            "          Conv2d-244           [-1, 1152, 1, 1]          56,448\n",
            "         Sigmoid-245           [-1, 1152, 1, 1]               0\n",
            "SqueezeExcitation-246           [-1, 1152, 7, 7]               0\n",
            "          Conv2d-247            [-1, 320, 7, 7]         368,640\n",
            "     BatchNorm2d-248            [-1, 320, 7, 7]             640\n",
            "          MBConv-249            [-1, 320, 7, 7]               0\n",
            "          Conv2d-250           [-1, 1280, 7, 7]         409,600\n",
            "     BatchNorm2d-251           [-1, 1280, 7, 7]           2,560\n",
            "            SiLU-252           [-1, 1280, 7, 7]               0\n",
            "AdaptiveAvgPool2d-253           [-1, 1280, 1, 1]               0\n",
            "         Dropout-254                 [-1, 1280]               0\n",
            "          Linear-255                    [-1, 1]           1,281\n",
            "         Sigmoid-256                    [-1, 1]               0\n",
            "================================================================\n",
            "Total params: 4,008,829\n",
            "Trainable params: 4,008,829\n",
            "Non-trainable params: 0\n",
            "----------------------------------------------------------------\n",
            "Input size (MB): 0.57\n",
            "Forward/backward pass size (MB): 173.64\n",
            "Params size (MB): 15.29\n",
            "Estimated Total Size (MB): 189.51\n",
            "----------------------------------------------------------------\n"
          ]
        }
      ],
      "source": [
        "net = net.cuda()\n",
        "summary(net, input_size=(3, 224, 224))"
      ]
    },
    {
      "cell_type": "markdown",
      "metadata": {
        "id": "x5oUhqie-U9s"
      },
      "source": [
        "3. Set the optimizer and scheduler"
      ]
    },
    {
      "cell_type": "code",
      "execution_count": 7,
      "metadata": {
        "id": "Hg2kCLTK-etW"
      },
      "outputs": [],
      "source": [
        "#optimizer = optim.SGD(net.parameters(), lr=0.01, momentum=0.9)\n",
        "#scheduler = lr_scheduler.StepLR(optimizer, step_size=10, gamma=0.1)"
      ]
    },
    {
      "cell_type": "markdown",
      "metadata": {
        "id": "CTS-szMp-l4t"
      },
      "source": [
        "# Train / Fine Tune model"
      ]
    },
    {
      "cell_type": "code",
      "execution_count": 17,
      "metadata": {
        "id": "OssGpoh5-h4v"
      },
      "outputs": [],
      "source": [
        "def train(model, trainloader, valloader, num_epochs, lr=0.01, momentum=0.9, step_size=10, gamma=0.1):\n",
        "    \n",
        "    train_history = []  # save the train loss\n",
        "    val_history = []    # save the validation loss\n",
        "    \n",
        "    # transfer model to GPU\n",
        "    if torch.cuda.is_available():\n",
        "        device = torch.device(\"cuda\")\n",
        "\n",
        "    else:\n",
        "        device = torch.device(\"cpu\")\n",
        "    \n",
        "    model = model.to(device)\n",
        "\n",
        "    #Set the optimizer and scheduler    \n",
        "    optimizer = optim.SGD(net.parameters(), lr=lr, momentum=momentum)\n",
        "    scheduler = lr_scheduler.StepLR(optimizer, step_size=step_size, gamma=gamma)\n",
        "\n",
        "    # train the network\n",
        "    for e in range(num_epochs):\n",
        "\n",
        "        #running_loss\n",
        "        running_loss = 0.0\n",
        "        running_count = 0.0\n",
        "        running_val_loss = 0.0\n",
        "        running_val_count = 0.0\n",
        "\n",
        "        #----------------------------train---------------------------------------\n",
        "        # set to training mode\n",
        "        model.train()\n",
        "\n",
        "        for i, (inputs, labels) in enumerate(trainloader):\n",
        "\n",
        "            labels = labels.reshape(-1, 1).float()\n",
        "            \n",
        "            # Clear all the gradient to 0\n",
        "            optimizer.zero_grad()\n",
        "\n",
        "            # transfer data to GPU\n",
        "            if torch.cuda.is_available():\n",
        "                inputs = inputs.cuda()\n",
        "                labels = labels.cuda()\n",
        "\n",
        "            # forward propagation to get h\n",
        "            outs = model(inputs)\n",
        "            #labels = labels.to(torch.float32)\n",
        "        \n",
        "            # compute loss \n",
        "            loss = F.binary_cross_entropy(outs, labels)\n",
        "\n",
        "            # backpropagation to get dw\n",
        "            loss.backward()\n",
        "\n",
        "            # update the parameters\n",
        "            optimizer.step()\n",
        "\n",
        "            # get the loss\n",
        "            running_loss += loss.item()\n",
        "            running_count += 1\n",
        "\n",
        "        # compute the averaged loss in each epoch\n",
        "        train_loss = running_loss / running_count\n",
        "        train_history.append(train_loss)\n",
        "        running_loss = 0. \n",
        "        running_count = 0.     \n",
        "\n",
        "        # Update the scheduler's counter at the end of each epoch\n",
        "        scheduler.step()\n",
        "\n",
        "        #-----------------------validation---------------------------------------\n",
        "        # set to eval mode\n",
        "        model.eval()\n",
        "\n",
        "        for i, (inputs, labels) in enumerate(valloader):\n",
        "\n",
        "            labels = labels.reshape(-1, 1).float()\n",
        "\n",
        "            # transfer data to GPU\n",
        "            if torch.cuda.is_available():\n",
        "                inputs = inputs.cuda()\n",
        "                labels = labels.cuda()\n",
        "\n",
        "            # forward propagation to get h\n",
        "            outs = model(inputs)\n",
        "            #labels = labels.to(torch.float32)\n",
        "        \n",
        "            # compute loss \n",
        "            loss_val = F.binary_cross_entropy(outs, labels)\n",
        "\n",
        "            # get the loss\n",
        "            running_val_loss += loss_val.item()\n",
        "            running_val_count += 1\n",
        "\n",
        "        # compute the averaged loss in each epoch\n",
        "        val_loss = running_val_loss / running_val_count\n",
        "        val_history.append(val_loss)\n",
        "        running_val_loss = 0. \n",
        "        running_val_count = 0.\n",
        "        print(f'Epoch {e+1:2d}/{num_epochs:d} : train_loss = {train_loss:.4f} | val_loss = {val_loss:.4f}')\n",
        "\n",
        "        # create save model folder\n",
        "        if not os.path.exists(\"./efficientnet_models\"):\n",
        "          os.mkdir(\"efficientnet_models\")\n",
        "\n",
        "        # save the model       \n",
        "        checkpoint_file = './efficientnet_models/saved_model.pt'\n",
        "        torch.save({\n",
        "            'epoch': e,\n",
        "            'train_loss': train_loss,\n",
        "            'model_state_dict': model.state_dict(),\n",
        "            'optimizer_state_dict': optimizer.state_dict(),\n",
        "        }, checkpoint_file)\n",
        "\n",
        "    print(\"Training completed.\")\n",
        "    return train_history, val_history"
      ]
    },
    {
      "cell_type": "markdown",
      "metadata": {
        "id": "xJOsXTmv-7PO"
      },
      "source": [
        "Evaluate model"
      ]
    },
    {
      "cell_type": "code",
      "execution_count": 9,
      "metadata": {
        "id": "gUbMg85G-8ud"
      },
      "outputs": [],
      "source": [
        "def evaluate(model, testloader):\n",
        "    # set to evaluation mode\n",
        "    model.eval()\n",
        "    \n",
        "    # running_correct\n",
        "    running_corrects = 0\n",
        "    running_count = 0\n",
        "\n",
        "    for inputs, targets in testloader:\n",
        "        \n",
        "        # transfer to the GPU\n",
        "        if torch.cuda.is_available():\n",
        "            inputs = inputs.cuda()\n",
        "            targets = targets.cuda()\n",
        "        \n",
        "        # perform prediction (no need to compute gradient)\n",
        "        with torch.no_grad():\n",
        "            outputs = model(inputs)\n",
        "            predicted = outputs > 0.5\n",
        "            running_corrects += (predicted.view(-1) == targets).sum().double()\n",
        "            running_count += len(inputs)\n",
        "            print('.', end='')\n",
        "\n",
        "    print('\\nAccuracy = {:.2f}%'.format(100*running_corrects/running_count))"
      ]
    },
    {
      "cell_type": "markdown",
      "metadata": {
        "id": "R92nvg_GmCwz"
      },
      "source": [
        "# Loss graph"
      ]
    },
    {
      "cell_type": "code",
      "execution_count": 10,
      "metadata": {
        "id": "k-1feVyhj-3q"
      },
      "outputs": [],
      "source": [
        "def plot_loss(train_loss, val_loss):\n",
        "    epochs = range(1, len(train_loss)+1)\n",
        "    plt.plot(epochs, train_loss, label='train loss')\n",
        "    plt.plot(epochs, val_loss, label='validation loss')\n",
        "    plt.ylabel('Loss', fontsize=13)\n",
        "    plt.xlabel('epochs', fontsize=13)\n",
        "    plt.title('Loss vs epoch', fontsize=18)\n",
        "    plt.legend()\n",
        "    plt.show()"
      ]
    },
    {
      "cell_type": "markdown",
      "metadata": {
        "id": "HJkq786dnHvT"
      },
      "source": [
        "# Accurarcy graph"
      ]
    },
    {
      "cell_type": "code",
      "execution_count": 11,
      "metadata": {
        "id": "8OHcVsKfmcm0"
      },
      "outputs": [],
      "source": [
        "def plot_history_acc(train_acc, val_acc):\n",
        "    epochs = range(1, len(train_acc)+1)\n",
        "    plt.figure(figsize=(8, 4))\n",
        "    plt.plot(epochs, train_acc, color='red', label='train_acc')\n",
        "    plt.plot(epochs, val_acc, color='blue', label='val_acc')\n",
        "    plt.ylabel('Accuracy', fontsize=13)\n",
        "    plt.xlabel('epochs', fontsize=13)\n",
        "    plt.title('Training vs Validation Accuracy', fontsize=18)\n",
        "    plt.legend()\n",
        "    plt.show()"
      ]
    },
    {
      "cell_type": "markdown",
      "metadata": {
        "id": "K1KUTOpN_RgA"
      },
      "source": [
        "Check the dataset images number"
      ]
    },
    {
      "cell_type": "code",
      "execution_count": 12,
      "metadata": {
        "colab": {
          "base_uri": "https://localhost:8080/"
        },
        "id": "-1ZeHFK-_R3f",
        "outputId": "761accdb-a5c9-4919-cf00-10e7fb99d38f"
      },
      "outputs": [
        {
          "output_type": "stream",
          "name": "stdout",
          "text": [
            "Total of original datasets         :  15153\n",
            "---------------------------------------------\n",
            "\n",
            "Train-Covid                        :  2892\n",
            "Train-Normal                       :  8153\n",
            "Train-Viral Pneumonia              :  1076\n",
            "\n",
            "Validation-Covid                   :  362\n",
            "Validation-Normal                  :  1019\n",
            "Validation-Viral Pneumonia         :  134\n",
            "\n",
            "Test-Covid                         :  362\n",
            "Test-Normal                        :  1020\n",
            "Test-Viral Pneumonia               :  135\n",
            "---------------------------------------------\n",
            "\n",
            "Total of Train, Val, Test datasets :  15153\n"
          ]
        }
      ],
      "source": [
        "classes = ['COVID', 'Normal', 'Viral Pneumonia']\n",
        "\n",
        "total_ori = 0\n",
        "ori_path = './COVID-19_Radiography_Dataset/'\n",
        "for cls in classes:\n",
        "  total_ori += len(os.listdir(ori_path + cls + '/images'))\n",
        "print('Total of original datasets         : ', total_ori)\n",
        "print('---------------------------------------------\\n')\n",
        "\n",
        "print('Train-Covid                        : ', len(os.listdir('./Radiography_Data/train/COVID')))\n",
        "print('Train-Normal                       : ', len(os.listdir('./Radiography_Data/train/Normal')))\n",
        "print('Train-Viral Pneumonia              : ', len(os.listdir('./Radiography_Data/train/Viral Pneumonia')))\n",
        "\n",
        "print('\\nValidation-Covid                   : ', len(os.listdir('./Radiography_Data/val/COVID')))\n",
        "print('Validation-Normal                  : ', len(os.listdir('./Radiography_Data/val/Normal')))\n",
        "print('Validation-Viral Pneumonia         : ', len(os.listdir('./Radiography_Data/val/Viral Pneumonia')))\n",
        "\n",
        "print('\\nTest-Covid                         : ', len(os.listdir('./Radiography_Data/test/COVID')))\n",
        "print('Test-Normal                        : ', len(os.listdir('./Radiography_Data/test/Normal')))\n",
        "print('Test-Viral Pneumonia               : ', len(os.listdir('./Radiography_Data/test/Viral Pneumonia')))\n",
        "\n",
        "print('---------------------------------------------\\n')\n",
        "new_path = './Radiography_Data/'\n",
        "folder = ['train', 'val', 'test']\n",
        "total_new = 0\n",
        "for fld in folder:\n",
        "  for cls in classes:\n",
        "    total_new += len(os.listdir(new_path + fld + '/' + cls))\n",
        "\n",
        "print('Total of Train, Val, Test datasets : ', total_new)"
      ]
    },
    {
      "cell_type": "markdown",
      "metadata": {
        "id": "BwY_XLh3_bVE"
      },
      "source": [
        "Transformation of images"
      ]
    },
    {
      "cell_type": "code",
      "execution_count": 13,
      "metadata": {
        "id": "FsdhgLA8_bke"
      },
      "outputs": [],
      "source": [
        "import torchvision.transforms as transforms\n",
        "from torch.utils.data import DataLoader\n",
        "\n",
        "# transform the model\n",
        "train_transform = transforms.Compose([\n",
        "    transforms.Resize(256),                                # output: PIL Image of resolution(256, 256)\n",
        "    transforms.RandomCrop(224),                            # output: PIL Image of resolution(224, 224)\n",
        "    transforms.RandomHorizontalFlip(),                     # output: PIL Image of resolution(224, 224)\n",
        "    transforms.ToTensor(),                                 # output: tensor, dtype = float32, shape = (3, 224, 224), range:[0, 1]\n",
        "    transforms.Normalize((0.5, 0.5, 0.5), (0.5, 0.5, 0.5)) # output: same as before except range changes such that mean = 0, std = 1\n",
        "])\n",
        "\n",
        "val_transform = transforms.Compose([\n",
        "    transforms.Resize(256),\n",
        "    transforms.ToTensor(),\n",
        "    transforms.Normalize((0.5, 0.5, 0.5), (0.5, 0.5, 0.5))\n",
        "])"
      ]
    },
    {
      "cell_type": "markdown",
      "metadata": {
        "id": "_lChApiC_gk3"
      },
      "source": [
        "Load the dataset using DataLoader"
      ]
    },
    {
      "cell_type": "code",
      "execution_count": 14,
      "metadata": {
        "id": "_52x4X0m_gzz"
      },
      "outputs": [],
      "source": [
        "#Load the dataset\n",
        "trainset = RadiographyDataset(\"./Radiography_Data/train\", transform=train_transform)\n",
        "valset  = RadiographyDataset(\"./Radiography_Data/val\", transform=val_transform)\n",
        "\n",
        "batch_size = 32\n",
        "trainloader = DataLoader(trainset, batch_size=batch_size, shuffle=True, num_workers=2)\n",
        "valloader  = DataLoader(valset, batch_size=batch_size, shuffle=True, num_workers=2)"
      ]
    },
    {
      "cell_type": "markdown",
      "metadata": {
        "id": "1tCfJiEuAmzm"
      },
      "source": [
        "Start training"
      ]
    },
    {
      "cell_type": "code",
      "execution_count": 18,
      "metadata": {
        "id": "KbfCi3eleJd8"
      },
      "outputs": [],
      "source": [
        "# Release Cache\n",
        "import gc\n",
        "gc.collect()\n",
        "torch.cuda.empty_cache()"
      ]
    },
    {
      "cell_type": "code",
      "execution_count": 19,
      "metadata": {
        "colab": {
          "base_uri": "https://localhost:8080/"
        },
        "id": "Uak9QHkfA3EQ",
        "outputId": "ab85c4fd-1e9b-4865-c141-728af6cccb9f"
      },
      "outputs": [
        {
          "output_type": "stream",
          "name": "stdout",
          "text": [
            "Epoch  1/30 : train_loss = -7.6192 | val_loss = -8.3509\n",
            "Epoch  2/30 : train_loss = -8.4987 | val_loss = -8.5468\n",
            "Epoch  3/30 : train_loss = -8.6302 | val_loss = -8.4047\n",
            "Epoch  4/30 : train_loss = -8.6459 | val_loss = -8.3822\n",
            "Epoch  5/30 : train_loss = -8.6816 | val_loss = -8.3631\n",
            "Epoch  6/30 : train_loss = -8.7240 | val_loss = -8.3512\n",
            "Epoch  7/30 : train_loss = -8.7839 | val_loss = -8.4981\n",
            "Epoch  8/30 : train_loss = -8.7400 | val_loss = -8.6050\n",
            "Epoch  9/30 : train_loss = -8.7732 | val_loss = -8.3730\n",
            "Epoch 10/30 : train_loss = -8.7899 | val_loss = -8.5622\n",
            "Epoch 11/30 : train_loss = -8.7878 | val_loss = -8.4441\n",
            "Epoch 12/30 : train_loss = -8.8422 | val_loss = -8.8207\n",
            "Epoch 13/30 : train_loss = -8.8397 | val_loss = -8.6950\n",
            "Epoch 14/30 : train_loss = -8.8560 | val_loss = -8.4464\n",
            "Epoch 15/30 : train_loss = -8.8520 | val_loss = -8.5700\n",
            "Epoch 16/30 : train_loss = -8.8475 | val_loss = -8.5694\n",
            "Epoch 17/30 : train_loss = -8.8529 | val_loss = -8.5675\n",
            "Epoch 18/30 : train_loss = -8.8237 | val_loss = -8.5745\n",
            "Epoch 19/30 : train_loss = -8.8553 | val_loss = -8.6954\n",
            "Epoch 20/30 : train_loss = -8.8520 | val_loss = -8.4482\n",
            "Epoch 21/30 : train_loss = -8.8628 | val_loss = -8.5692\n",
            "Epoch 22/30 : train_loss = -8.8559 | val_loss = -8.5696\n",
            "Epoch 23/30 : train_loss = -8.8703 | val_loss = -8.4457\n",
            "Epoch 24/30 : train_loss = -8.8453 | val_loss = -8.5724\n",
            "Epoch 25/30 : train_loss = -8.8709 | val_loss = -8.4451\n",
            "Epoch 26/30 : train_loss = -8.8715 | val_loss = -8.4470\n",
            "Epoch 27/30 : train_loss = -8.8481 | val_loss = -8.6942\n",
            "Epoch 28/30 : train_loss = -8.8640 | val_loss = -8.4409\n",
            "Epoch 29/30 : train_loss = -8.8458 | val_loss = -8.4476\n",
            "Epoch 30/30 : train_loss = -8.8644 | val_loss = -8.4499\n",
            "Training completed.\n"
          ]
        }
      ],
      "source": [
        "train_loss, val_loss = train (net, trainloader, valloader, num_epochs=30)"
      ]
    },
    {
      "cell_type": "code",
      "execution_count": 20,
      "metadata": {
        "id": "AdOMsyGEs33C",
        "colab": {
          "base_uri": "https://localhost:8080/",
          "height": 481
        },
        "outputId": "c1bdc84f-a27d-43f5-df33-59007e90a92e"
      },
      "outputs": [
        {
          "output_type": "display_data",
          "data": {
            "text/plain": [
              "<Figure size 640x480 with 1 Axes>"
            ],
            "image/png": "[encoded data removed]"
          },
          "metadata": {}
        }
      ],
      "source": [
        "plot_loss(train_loss, val_loss)"
      ]
    },
    {
      "cell_type": "code",
      "execution_count": null,
      "metadata": {
        "id": "JNaiekFWbOha"
      },
      "outputs": [],
      "source": [
        "#plot_history_acc(train_acc, val_acc)"
      ]
    },
    {
      "cell_type": "markdown",
      "metadata": {
        "id": "dl0prLrsBAtk"
      },
      "source": [
        "Evaluate model"
      ]
    },
    {
      "cell_type": "code",
      "execution_count": 21,
      "metadata": {
        "id": "z9UuQMInBBFk"
      },
      "outputs": [],
      "source": [
        "# transform the model\n",
        "test_transform = transforms.Compose([\n",
        "    transforms.Resize(256),\n",
        "    transforms.CenterCrop(224),\n",
        "    transforms.ToTensor(),\n",
        "    transforms.Normalize((0.5, 0.5, 0.5), (0.5, 0.5, 0.5))\n",
        "])\n",
        "\n",
        "batch_size = 32\n",
        "testset = RadiographyDataset(\"./Radiography_Data/test\", transform=test_transform)\n",
        "testloader = DataLoader(testset, batch_size=batch_size, shuffle=True, num_workers=2)"
      ]
    },
    {
      "cell_type": "code",
      "execution_count": 22,
      "metadata": {
        "id": "c1bk8pf4BZ2K",
        "colab": {
          "base_uri": "https://localhost:8080/"
        },
        "outputId": "d9f2574b-1f23-4086-f9e9-ac2fac78e25c"
      },
      "outputs": [
        {
          "output_type": "stream",
          "name": "stdout",
          "text": [
            "................................................\n",
            "Accuracy = 90.44%\n"
          ]
        }
      ],
      "source": [
        "evaluate(net, testloader)"
      ]
    }
  ],
  "metadata": {
    "accelerator": "GPU",
    "colab": {
      "provenance": []
    },
    "gpuClass": "standard",
    "kernelspec": {
      "display_name": "Python 3",
      "name": "python3"
    },
    "language_info": {
      "name": "python"
    }
  },
  "nbformat": 4,
  "nbformat_minor": 0
}