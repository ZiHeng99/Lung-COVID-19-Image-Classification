{
  "nbformat": 4,
  "nbformat_minor": 0,
  "metadata": {
    "colab": {
      "provenance": []
    },
    "kernelspec": {
      "name": "python3",
      "display_name": "Python 3"
    },
    "language_info": {
      "name": "python"
    },
    "accelerator": "GPU",
    "gpuClass": "standard"
  },
  "cells": [
    {
      "cell_type": "code",
      "execution_count": 1,
      "metadata": {
        "colab": {
          "base_uri": "https://localhost:8080/"
        },
        "id": "BV9XxkuMXC1K",
        "outputId": "db8c1489-12fe-475c-9c5c-07b9656825f5"
      },
      "outputs": [
        {
          "output_type": "stream",
          "name": "stdout",
          "text": [
            "Mounted at /content/gdrive\n"
          ]
        }
      ],
      "source": [
        "from google.colab import drive\n",
        "drive.mount('/content/gdrive')"
      ]
    },
    {
      "cell_type": "code",
      "source": [
        "cd \"/content/gdrive/MyDrive/FYP\""
      ],
      "metadata": {
        "colab": {
          "base_uri": "https://localhost:8080/"
        },
        "id": "p46JCBpIX5jL",
        "outputId": "3996ead9-ec7d-4eee-823f-5bc0d3cea9e4"
      },
      "execution_count": 2,
      "outputs": [
        {
          "output_type": "stream",
          "name": "stdout",
          "text": [
            "/content/gdrive/MyDrive/FYP\n"
          ]
        }
      ]
    },
    {
      "cell_type": "code",
      "source": [
        "from google.colab import files\n",
        "files.upload()"
      ],
      "metadata": {
        "colab": {
          "base_uri": "https://localhost:8080/",
          "height": 90
        },
        "id": "vXkkREMzX7cT",
        "outputId": "57962238-9c13-47bd-fc3f-34e69957393d"
      },
      "execution_count": null,
      "outputs": [
        {
          "output_type": "display_data",
          "data": {
            "text/plain": [
              "<IPython.core.display.HTML object>"
            ],
            "text/html": [
              "\n",
              "     <input type=\"file\" id=\"files-790bc113-e141-478e-a56e-c585faae2647\" name=\"files[]\" multiple disabled\n",
              "        style=\"border:none\" />\n",
              "     <output id=\"result-790bc113-e141-478e-a56e-c585faae2647\">\n",
              "      Upload widget is only available when the cell has been executed in the\n",
              "      current browser session. Please rerun this cell to enable.\n",
              "      </output>\n",
              "      <script>// Copyright 2017 Google LLC\n",
              "//\n",
              "// Licensed under the Apache License, Version 2.0 (the \"License\");\n",
              "// you may not use this file except in compliance with the License.\n",
              "// You may obtain a copy of the License at\n",
              "//\n",
              "//      http://www.apache.org/licenses/LICENSE-2.0\n",
              "//\n",
              "// Unless required by applicable law or agreed to in writing, software\n",
              "// distributed under the License is distributed on an \"AS IS\" BASIS,\n",
              "// WITHOUT WARRANTIES OR CONDITIONS OF ANY KIND, either express or implied.\n",
              "// See the License for the specific language governing permissions and\n",
              "// limitations under the License.\n",
              "\n",
              "/**\n",
              " * @fileoverview Helpers for google.colab Python module.\n",
              " */\n",
              "(function(scope) {\n",
              "function span(text, styleAttributes = {}) {\n",
              "  const element = document.createElement('span');\n",
              "  element.textContent = text;\n",
              "  for (const key of Object.keys(styleAttributes)) {\n",
              "    element.style[key] = styleAttributes[key];\n",
              "  }\n",
              "  return element;\n",
              "}\n",
              "\n",
              "// Max number of bytes which will be uploaded at a time.\n",
              "const MAX_PAYLOAD_SIZE = 100 * 1024;\n",
              "\n",
              "function _uploadFiles(inputId, outputId) {\n",
              "  const steps = uploadFilesStep(inputId, outputId);\n",
              "  const outputElement = document.getElementById(outputId);\n",
              "  // Cache steps on the outputElement to make it available for the next call\n",
              "  // to uploadFilesContinue from Python.\n",
              "  outputElement.steps = steps;\n",
              "\n",
              "  return _uploadFilesContinue(outputId);\n",
              "}\n",
              "\n",
              "// This is roughly an async generator (not supported in the browser yet),\n",
              "// where there are multiple asynchronous steps and the Python side is going\n",
              "// to poll for completion of each step.\n",
              "// This uses a Promise to block the python side on completion of each step,\n",
              "// then passes the result of the previous step as the input to the next step.\n",
              "function _uploadFilesContinue(outputId) {\n",
              "  const outputElement = document.getElementById(outputId);\n",
              "  const steps = outputElement.steps;\n",
              "\n",
              "  const next = steps.next(outputElement.lastPromiseValue);\n",
              "  return Promise.resolve(next.value.promise).then((value) => {\n",
              "    // Cache the last promise value to make it available to the next\n",
              "    // step of the generator.\n",
              "    outputElement.lastPromiseValue = value;\n",
              "    return next.value.response;\n",
              "  });\n",
              "}\n",
              "\n",
              "/**\n",
              " * Generator function which is called between each async step of the upload\n",
              " * process.\n",
              " * @param {string} inputId Element ID of the input file picker element.\n",
              " * @param {string} outputId Element ID of the output display.\n",
              " * @return {!Iterable<!Object>} Iterable of next steps.\n",
              " */\n",
              "function* uploadFilesStep(inputId, outputId) {\n",
              "  const inputElement = document.getElementById(inputId);\n",
              "  inputElement.disabled = false;\n",
              "\n",
              "  const outputElement = document.getElementById(outputId);\n",
              "  outputElement.innerHTML = '';\n",
              "\n",
              "  const pickedPromise = new Promise((resolve) => {\n",
              "    inputElement.addEventListener('change', (e) => {\n",
              "      resolve(e.target.files);\n",
              "    });\n",
              "  });\n",
              "\n",
              "  const cancel = document.createElement('button');\n",
              "  inputElement.parentElement.appendChild(cancel);\n",
              "  cancel.textContent = 'Cancel upload';\n",
              "  const cancelPromise = new Promise((resolve) => {\n",
              "    cancel.onclick = () => {\n",
              "      resolve(null);\n",
              "    };\n",
              "  });\n",
              "\n",
              "  // Wait for the user to pick the files.\n",
              "  const files = yield {\n",
              "    promise: Promise.race([pickedPromise, cancelPromise]),\n",
              "    response: {\n",
              "      action: 'starting',\n",
              "    }\n",
              "  };\n",
              "\n",
              "  cancel.remove();\n",
              "\n",
              "  // Disable the input element since further picks are not allowed.\n",
              "  inputElement.disabled = true;\n",
              "\n",
              "  if (!files) {\n",
              "    return {\n",
              "      response: {\n",
              "        action: 'complete',\n",
              "      }\n",
              "    };\n",
              "  }\n",
              "\n",
              "  for (const file of files) {\n",
              "    const li = document.createElement('li');\n",
              "    li.append(span(file.name, {fontWeight: 'bold'}));\n",
              "    li.append(span(\n",
              "        `(${file.type || 'n/a'}) - ${file.size} bytes, ` +\n",
              "        `last modified: ${\n",
              "            file.lastModifiedDate ? file.lastModifiedDate.toLocaleDateString() :\n",
              "                                    'n/a'} - `));\n",
              "    const percent = span('0% done');\n",
              "    li.appendChild(percent);\n",
              "\n",
              "    outputElement.appendChild(li);\n",
              "\n",
              "    const fileDataPromise = new Promise((resolve) => {\n",
              "      const reader = new FileReader();\n",
              "      reader.onload = (e) => {\n",
              "        resolve(e.target.result);\n",
              "      };\n",
              "      reader.readAsArrayBuffer(file);\n",
              "    });\n",
              "    // Wait for the data to be ready.\n",
              "    let fileData = yield {\n",
              "      promise: fileDataPromise,\n",
              "      response: {\n",
              "        action: 'continue',\n",
              "      }\n",
              "    };\n",
              "\n",
              "    // Use a chunked sending to avoid message size limits. See b/62115660.\n",
              "    let position = 0;\n",
              "    do {\n",
              "      const length = Math.min(fileData.byteLength - position, MAX_PAYLOAD_SIZE);\n",
              "      const chunk = new Uint8Array(fileData, position, length);\n",
              "      position += length;\n",
              "\n",
              "      const base64 = btoa(String.fromCharCode.apply(null, chunk));\n",
              "      yield {\n",
              "        response: {\n",
              "          action: 'append',\n",
              "          file: file.name,\n",
              "          data: base64,\n",
              "        },\n",
              "      };\n",
              "\n",
              "      let percentDone = fileData.byteLength === 0 ?\n",
              "          100 :\n",
              "          Math.round((position / fileData.byteLength) * 100);\n",
              "      percent.textContent = `${percentDone}% done`;\n",
              "\n",
              "    } while (position < fileData.byteLength);\n",
              "  }\n",
              "\n",
              "  // All done.\n",
              "  yield {\n",
              "    response: {\n",
              "      action: 'complete',\n",
              "    }\n",
              "  };\n",
              "}\n",
              "\n",
              "scope.google = scope.google || {};\n",
              "scope.google.colab = scope.google.colab || {};\n",
              "scope.google.colab._files = {\n",
              "  _uploadFiles,\n",
              "  _uploadFilesContinue,\n",
              "};\n",
              "})(self);\n",
              "</script> "
            ]
          },
          "metadata": {}
        },
        {
          "output_type": "stream",
          "name": "stdout",
          "text": [
            "Saving kaggle.json to kaggle.json\n"
          ]
        },
        {
          "output_type": "execute_result",
          "data": {
            "text/plain": [
              "{'kaggle.json': b'{\"username\":\"zihenglim\",\"key\":\"d9cc7a1ec8656f455cf9529957ff2936\"}'}"
            ]
          },
          "metadata": {},
          "execution_count": 3
        }
      ]
    },
    {
      "cell_type": "code",
      "source": [
        "! mkdir ~/.kaggle\n",
        "! cp kaggle.json ~/.kaggle/"
      ],
      "metadata": {
        "id": "vyxXbQsiX9uj"
      },
      "execution_count": 3,
      "outputs": []
    },
    {
      "cell_type": "code",
      "source": [
        "! chmod 600 ~/.kaggle/kaggle.json"
      ],
      "metadata": {
        "id": "bsF-sx_1YCZq"
      },
      "execution_count": 5,
      "outputs": []
    },
    {
      "cell_type": "code",
      "source": [
        "!kaggle datasets download -d tawsifurrahman/covid19-radiography-database"
      ],
      "metadata": {
        "colab": {
          "base_uri": "https://localhost:8080/"
        },
        "id": "rW04_hT6YI2L",
        "outputId": "44371843-f156-4ec5-cf7c-9b8da2203ef1"
      },
      "execution_count": 6,
      "outputs": [
        {
          "output_type": "stream",
          "name": "stdout",
          "text": [
            "Downloading covid19-radiography-database.zip to /content/gdrive/MyDrive/FYP\n",
            "100% 778M/778M [00:23<00:00, 36.9MB/s]\n",
            "100% 778M/778M [00:23<00:00, 35.1MB/s]\n"
          ]
        }
      ]
    },
    {
      "cell_type": "code",
      "source": [
        "!unzip -u \"/content/gdrive/MyDrive/FYP/covid19-radiography-database.zip\" -d \"/content/gdrive/MyDrive/FYP\""
      ],
      "metadata": {
        "id": "cKEP2LwXYLXS"
      },
      "execution_count": null,
      "outputs": []
    },
    {
      "cell_type": "code",
      "source": [
        "import os\n",
        "import shutil\n",
        "import random\n",
        "import math\n",
        "import numpy as np\n",
        "\n",
        "root_dir = './COVID-19_Radiography_Dataset'\n",
        "\n",
        "classes = ['COVID', 'Normal', 'Viral Pneumonia']\n",
        "for clss in classes:\n",
        "  print(clss + '------------- split file done')\n",
        "  dirtry = root_dir + '/' + clss + '/images'\n",
        "  files = os.listdir(dirtry)\n",
        "  np.random.shuffle(files)\n",
        "\n",
        "  base_outdir = './Radiography_Data/'\n",
        "\n",
        "  for folder in ['train', 'val', 'test']:\n",
        "    target_dir = base_outdir + folder\n",
        "    os.makedirs(target_dir + '/' + clss)\n",
        "    target_class = target_dir + '/' + clss\n",
        "    \n",
        "    if folder == 'train':\n",
        "      images_to_pass = files[: math.floor(0.8*len(files))]\n",
        "      for img in images_to_pass:\n",
        "        img = dirtry + '/' + img\n",
        "        shutil.copy(img, target_class)\n",
        "        \n",
        "    elif folder == 'val':\n",
        "      images_to_pass = files[math.floor(0.8*len(files)): math.floor(0.9*len(files))]\n",
        "      for img in images_to_pass:\n",
        "        img = dirtry + '/' + img\n",
        "        shutil.copy(img, target_class)\n",
        "\n",
        "    else:\n",
        "      images_to_pass = files[math.floor(0.9*len(files)):]\n",
        "      for img in images_to_pass:\n",
        "        img = dirtry + '/' + img\n",
        "        shutil.copy(img, target_class)"
      ],
      "metadata": {
        "colab": {
          "base_uri": "https://localhost:8080/"
        },
        "id": "YPoftYh1YMWb",
        "outputId": "339a17fd-df30-4b54-f721-230403d06830"
      },
      "execution_count": 8,
      "outputs": [
        {
          "output_type": "stream",
          "name": "stdout",
          "text": [
            "COVID------------- split file done\n",
            "Normal------------- split file done\n",
            "Viral Pneumonia------------- split file done\n"
          ]
        }
      ]
    },
    {
      "cell_type": "markdown",
      "source": [
        "Check the number of images. Total of dataset images is 15153."
      ],
      "metadata": {
        "id": "aAHwXdk0cJ7L"
      }
    },
    {
      "cell_type": "code",
      "source": [
        "print('Total of original datasets         : ', len(os.listdir('./COVID-19_Radiography_Dataset/COVID/images')) + len(os.listdir('./COVID-19_Radiography_Dataset/Normal/images')) + len(os.listdir('./COVID-19_Radiography_Dataset/Viral Pneumonia/images')))\n",
        "print('---------------------------------------------\\n')\n",
        "\n",
        "print('Train-Covid                        : ', len(os.listdir('./Radiography_Data/train/COVID')))\n",
        "print('Train-Normal                       : ', len(os.listdir('./Radiography_Data/train/Normal')))\n",
        "print('Train-Viral Pneumonia              : ', len(os.listdir('./Radiography_Data/train/Viral Pneumonia')))\n",
        "\n",
        "print('\\nValidation-Covid                   : ', len(os.listdir('./Radiography_Data/val/COVID')))\n",
        "print('Validation-Normal                  : ', len(os.listdir('./Radiography_Data/val/Normal')))\n",
        "print('Validation-Viral Pneumonia         : ', len(os.listdir('./Radiography_Data/val/Viral Pneumonia')))\n",
        "\n",
        "print('\\nTest-Covid                         : ', len(os.listdir('./Radiography_Data/test/COVID')))\n",
        "print('Test-Normal                        : ', len(os.listdir('./Radiography_Data/test/Normal')))\n",
        "print('Test-Viral Pneumonia               : ', len(os.listdir('./Radiography_Data/test/Viral Pneumonia')))\n",
        "\n",
        "print('---------------------------------------------\\n')\n",
        "print('Total of Train, Val, Test datasets : ', len(os.listdir('./Radiography_Data/train/COVID')) + len(os.listdir('./Radiography_Data/train/Normal')) + len(os.listdir('./Radiography_Data/train/Viral Pneumonia')) +\n",
        "      len(os.listdir('./Radiography_Data/val/COVID')) + len(os.listdir('./Radiography_Data/val/Normal')) + len(os.listdir('./Radiography_Data/val/Viral Pneumonia')) +\n",
        "      len(os.listdir('./Radiography_Data/test/COVID')) + len(os.listdir('./Radiography_Data/test/Normal')) + len(os.listdir('./Radiography_Data/test/Viral Pneumonia')))"
      ],
      "metadata": {
        "colab": {
          "base_uri": "https://localhost:8080/"
        },
        "id": "pZN0fc4hc6zj",
        "outputId": "4bb08893-3b32-4558-e748-dfcf49f2ba17"
      },
      "execution_count": 9,
      "outputs": [
        {
          "output_type": "stream",
          "name": "stdout",
          "text": [
            "Total of original datasets         :  15153\n",
            "---------------------------------------------\n",
            "\n",
            "Train-Covid                        :  2892\n",
            "Train-Normal                       :  8153\n",
            "Train-Viral Pneumonia              :  1076\n",
            "\n",
            "Validation-Covid                   :  362\n",
            "Validation-Normal                  :  1019\n",
            "Validation-Viral Pneumonia         :  134\n",
            "\n",
            "Test-Covid                         :  362\n",
            "Test-Normal                        :  1020\n",
            "Test-Viral Pneumonia               :  135\n",
            "---------------------------------------------\n",
            "\n",
            "Total of Train, Val, Test datasets :  15153\n"
          ]
        }
      ]
    }
  ]
}