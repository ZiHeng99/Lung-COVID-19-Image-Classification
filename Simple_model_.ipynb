{
  "nbformat": 4,
  "nbformat_minor": 0,
  "metadata": {
    "colab": {
      "provenance": []
    },
    "kernelspec": {
      "name": "python3",
      "display_name": "Python 3"
    },
    "language_info": {
      "name": "python"
    },
    "gpuClass": "standard",
    "accelerator": "GPU"
  },
  "cells": [
    {
      "cell_type": "code",
      "execution_count": null,
      "metadata": {
        "colab": {
          "base_uri": "https://localhost:8080/"
        },
        "id": "x0coq2mx6SR5",
        "outputId": "095a2ac5-1a2e-4b7b-c20d-7add73970ad1"
      },
      "outputs": [
        {
          "output_type": "stream",
          "name": "stdout",
          "text": [
            "Mounted at /content/gdrive\n"
          ]
        }
      ],
      "source": [
        "from google.colab import drive\n",
        "drive.mount('/content/gdrive')"
      ]
    },
    {
      "cell_type": "code",
      "source": [
        "cd \"/content/gdrive/MyDrive/FYP\""
      ],
      "metadata": {
        "colab": {
          "base_uri": "https://localhost:8080/"
        },
        "id": "NsQVmAAi6tFL",
        "outputId": "78cf1f0c-3d16-4528-851d-ab8f64193b71"
      },
      "execution_count": null,
      "outputs": [
        {
          "output_type": "stream",
          "name": "stdout",
          "text": [
            "/content/gdrive/MyDrive/FYP\n"
          ]
        }
      ]
    },
    {
      "cell_type": "code",
      "source": [
        "import os\n",
        "import numpy as np\n",
        "import matplotlib.pyplot as plt\n",
        "\n",
        "import torch\n",
        "import torch.nn as nn\n",
        "import torch.nn.functional as F\n",
        "\n",
        "import torchvision\n",
        "import torchvision.transforms as transforms\n",
        "\n",
        "import torch.optim as optim\n",
        "from torch.utils.data import Dataset\n",
        "from torch.utils.data import DataLoader\n",
        "from torch.optim import lr_scheduler\n",
        "\n",
        "from PIL import Image\n",
        "from torchsummary import summary"
      ],
      "metadata": {
        "id": "nqtOBLSc8_jH"
      },
      "execution_count": null,
      "outputs": []
    },
    {
      "cell_type": "markdown",
      "source": [
        "1. Class Radiography Dataset"
      ],
      "metadata": {
        "id": "ICXlTLg88XI1"
      }
    },
    {
      "cell_type": "code",
      "source": [
        "class RadiographyDataset(Dataset):\n",
        "\n",
        "    def __init__(self, root, transform=None):\n",
        "        super().__init__()\n",
        "        self.data = []\n",
        "        self.labels = []\n",
        "        self.transform = transform\n",
        "        #self.classes = ['Normal', 'COVID', 'Viral Pneumonia']\n",
        "\n",
        "        self.classes   = os.listdir(root)\n",
        "        # self.filenames = []\n",
        "        # self.labels    = []\n",
        "\n",
        "        # for i in range(len(self.classes)):\n",
        "              # path = ps.join(root, self.classes[i])\n",
        "              # for filename in os.listdir(path):\n",
        "                  # filename = os.path.join(path, filename)\n",
        "                  # self.filenames.append(filename)\n",
        "                  # self.labels.append[i]\n",
        "\n",
        "        #get the training samples\n",
        "        for class_id, cls in enumerate(self.classes):\n",
        "\n",
        "          cls_folder = os.path.join(root, cls)\n",
        "\n",
        "          #get the training samples for the class 'cls'\n",
        "          for img_name in os.listdir(cls_folder):\n",
        "            self.data.append(os.path.join(cls_folder, img_name))\n",
        "            self.labels.append(class_id)\n",
        "\n",
        "    def __len__(self):\n",
        "        return len(self.data)\n",
        "\n",
        "    def __getitem__(self, idx):\n",
        "        \n",
        "        # get the image\n",
        "        image = Image.open(self.data[idx])\n",
        "        image = image.convert('RGB')\n",
        "        \n",
        "        # perform transformation\n",
        "        if self.transform is not None:\n",
        "          image = self.transform(image)\n",
        "        \n",
        "        # get the label\n",
        "        label = self.labels[idx]\n",
        "        \n",
        "        return image, label"
      ],
      "metadata": {
        "id": "H4PTWY41KiAe"
      },
      "execution_count": null,
      "outputs": []
    },
    {
      "cell_type": "markdown",
      "source": [
        "2. Create a customizable BLOCK module"
      ],
      "metadata": {
        "id": "D9MlHtwg77lG"
      }
    },
    {
      "cell_type": "code",
      "source": [
        "class BLOCK(nn.Module):\n",
        "\n",
        "    # ... define the init layer ...\n",
        "    def __init__(self, blk_cin, blk_cout):\n",
        "\n",
        "        super().__init__()\n",
        "\n",
        "        # ... define the convolutional layers ... \n",
        "        self.conv1 = nn.Conv2d(blk_cin, blk_cout, kernel_size=3, stride=1, padding=1)\n",
        "        self.conv2 = nn.Conv2d(blk_cout, blk_cout, kernel_size=3, stride=1, padding=1)\n",
        "\n",
        "    def forward(self, x):\n",
        "\n",
        "        # ...  forward propagation ... \n",
        "        x = F.relu(self.conv1(x))\n",
        "        x = F.relu(self.conv2(x))\n",
        "\n",
        "        return x"
      ],
      "metadata": {
        "id": "NTOB8PSD5IV2"
      },
      "execution_count": null,
      "outputs": []
    },
    {
      "cell_type": "code",
      "source": [
        "class Net(nn.Module):\n",
        "    def __init__(self):\n",
        "        super().__init__()\n",
        "        \n",
        "        # ... define block 1 ...\n",
        "        self.conv_block1 = BLOCK(3, 32)\n",
        "        \n",
        "        # ... define block 2 ...\n",
        "        self.conv_block2 = BLOCK(32, 64)\n",
        "\n",
        "        self.global_pool = nn.AdaptiveAvgPool2d((1,1))        \n",
        "\n",
        "        self.fc1 = nn.Linear(64, 10)\n",
        "        \n",
        "    def forward(self, x):\n",
        "        \n",
        "        # ... block 1 ...\n",
        "        x = self.conv_block1(x)\n",
        "\n",
        "        # max pool\n",
        "        x = F.max_pool2d(x, kernel_size=2, stride=2, padding=0)\n",
        "        \n",
        "        # ... block 2 ...\n",
        "        x = self.conv_block2(x)\n",
        "\n",
        "        # global pool\n",
        "        x = self.global_pool(x)\n",
        "\n",
        "        # view\n",
        "        x = x.view(x.size(0), -1) \n",
        "\n",
        "        # fc1\n",
        "        x = self.fc1(x)\n",
        "        \n",
        "        return x"
      ],
      "metadata": {
        "id": "nuGBGrhK8Byv"
      },
      "execution_count": null,
      "outputs": []
    },
    {
      "cell_type": "markdown",
      "source": [
        "3. Train the model"
      ],
      "metadata": {
        "id": "EBn-vwzyBiqw"
      }
    },
    {
      "cell_type": "code",
      "source": [
        "if not os.path.exists(\"./custom_models\"):\n",
        "  os.mkdir(\"custom_models\") "
      ],
      "metadata": {
        "id": "ZxclOeFCn1Zx"
      },
      "execution_count": null,
      "outputs": []
    },
    {
      "cell_type": "code",
      "source": [
        "def train(model, trainloader, num_epochs, lr=0.1, momentum=0.9):\n",
        "    \n",
        "    if torch.cuda.is_available():\n",
        "      device = torch.device(\"cuda\")\n",
        "      \n",
        "    else:\n",
        "      device = torch.device(\"cpu\")\n",
        "\n",
        "    loss_iterations = int(np.ceil(len(trainloader)/3))\n",
        "    \n",
        "    # transfer model to GPU\n",
        "    model = model.to(device)\n",
        "    \n",
        "    # set the optimizer. Use the SGD optimizer. Use the lr and momentum settings passed by the user\n",
        "    optimizer = optim.SGD(net.parameters(), lr=lr, momentum=momentum)\n",
        "    \n",
        "    # set to training mode\n",
        "    model.train()\n",
        "\n",
        "    # variables\n",
        "    best_loss = np.inf\n",
        "    saturate_count = 0\n",
        "    \n",
        "    # train the network\n",
        "    for e in range(num_epochs):    \n",
        "\n",
        "        running_loss = 0\n",
        "        running_count = 0\n",
        "\n",
        "        # for all batch samples\n",
        "        for i, (inputs, labels) in enumerate(trainloader):\n",
        "\n",
        "            # Clear all the gradient to zero\n",
        "            optimizer.zero_grad()\n",
        "\n",
        "            # transfer data to GPU\n",
        "            inputs = inputs.to(device)\n",
        "            labels = labels.to(device)\n",
        "\n",
        "            # forward propagation to get h\n",
        "            outs = model(inputs)\n",
        "\n",
        "            # compute loss \n",
        "            loss = F.cross_entropy(outs, labels)\n",
        "\n",
        "            # backpropagation to get gradients of all parameters\n",
        "            loss.backward()\n",
        "\n",
        "            # update parameters\n",
        "            optimizer.step()\n",
        "\n",
        "            # get the loss\n",
        "            running_loss += loss.item()\n",
        "            running_count += 1\n",
        "\n",
        "             # display the averaged loss value \n",
        "            if i % loss_iterations == loss_iterations-1 or i == len(trainloader) - 1:                \n",
        "                train_loss = running_loss / running_count\n",
        "                running_loss = 0. \n",
        "                running_count = 0.\n",
        "                print(f'[Epoch {e+1:2d} Iter {i+1:5d}/{len(trainloader)}]: train_loss = {train_loss:.4f}')\n",
        "\n",
        "        # save the model       \n",
        "        checkpoint_file = './custom_models/saved_model.pt'\n",
        "        torch.save({\n",
        "            'epoch': e,\n",
        "            'loss': train_loss,\n",
        "            'model_state_dict': model.state_dict(),\n",
        "            'optimizer_state_dict': optimizer.state_dict(),\n",
        "        }, checkpoint_file)       \n",
        "                \n",
        "    print(\"Training completed.\")"
      ],
      "metadata": {
        "id": "8TtBSwZdB6Rj"
      },
      "execution_count": null,
      "outputs": []
    },
    {
      "cell_type": "markdown",
      "source": [
        "4. Evaluate the model"
      ],
      "metadata": {
        "id": "KZAQ3C98CJM5"
      }
    },
    {
      "cell_type": "code",
      "source": [
        "def evaluate(net, testloader):\n",
        "\n",
        "    # set to evaluation mode\n",
        "    net.eval() \n",
        "\n",
        "    # running_correct\n",
        "    running_corrects = 0\n",
        "\n",
        "    # Repeat for all batch data in the test set\n",
        "    for inputs, targets in testloader:\n",
        "\n",
        "        # transfer to the GPU\n",
        "        if torch.cuda.is_available():\n",
        "          inputs = inputs.cuda()\n",
        "          targets = targets.cuda()\n",
        "\n",
        "        # # disable gradient computation\n",
        "        with torch.no_grad():\n",
        "            \n",
        "            # perform inference\n",
        "            outputs = net(inputs)\n",
        "\n",
        "            # predict as the best result  \n",
        "            _, predicted = torch.max(outputs, 1)\n",
        "\n",
        "            running_corrects += (targets == predicted).double().sum()\n",
        "\n",
        "\n",
        "    print('Accuracy = {:.2f}%'.format(100*running_corrects/len(testloader.dataset)))"
      ],
      "metadata": {
        "id": "Ll8-XQZeCLlp"
      },
      "execution_count": null,
      "outputs": []
    },
    {
      "cell_type": "markdown",
      "source": [
        "Check the dataset images number"
      ],
      "metadata": {
        "id": "fu1A-QO7IuQc"
      }
    },
    {
      "cell_type": "code",
      "source": [
        "print('Total of original datasets         : ', len(os.listdir('./COVID-19_Radiography_Dataset/COVID/images')) + len(os.listdir('./COVID-19_Radiography_Dataset/Normal/images')) + len(os.listdir('./COVID-19_Radiography_Dataset/Viral Pneumonia/images')))\n",
        "print('---------------------------------------------\\n')\n",
        "\n",
        "print('Train-Covid                        : ', len(os.listdir('./Radiography_Data/train/COVID')))\n",
        "print('Train-Normal                       : ', len(os.listdir('./Radiography_Data/train/Normal')))\n",
        "print('Train-Viral Pneumonia              : ', len(os.listdir('./Radiography_Data/train/Viral Pneumonia')))\n",
        "\n",
        "print('\\nValidation-Covid                   : ', len(os.listdir('./Radiography_Data/val/COVID')))\n",
        "print('Validation-Normal                  : ', len(os.listdir('./Radiography_Data/val/Normal')))\n",
        "print('Validation-Viral Pneumonia         : ', len(os.listdir('./Radiography_Data/val/Viral Pneumonia')))\n",
        "\n",
        "print('\\nTest-Covid                         : ', len(os.listdir('./Radiography_Data/test/COVID')))\n",
        "print('Test-Normal                        : ', len(os.listdir('./Radiography_Data/test/Normal')))\n",
        "print('Test-Viral Pneumonia               : ', len(os.listdir('./Radiography_Data/test/Viral Pneumonia')))\n",
        "\n",
        "print('---------------------------------------------\\n')\n",
        "print('Total of Train, Val, Test datasets : ', len(os.listdir('./Radiography_Data/train/COVID')) + len(os.listdir('./Radiography_Data/train/Normal')) + len(os.listdir('./Radiography_Data/train/Viral Pneumonia')) +\n",
        "      len(os.listdir('./Radiography_Data/val/COVID')) + len(os.listdir('./Radiography_Data/val/Normal')) + len(os.listdir('./Radiography_Data/val/Viral Pneumonia')) +\n",
        "      len(os.listdir('./Radiography_Data/test/COVID')) + len(os.listdir('./Radiography_Data/test/Normal')) + len(os.listdir('./Radiography_Data/test/Viral Pneumonia')))"
      ],
      "metadata": {
        "colab": {
          "base_uri": "https://localhost:8080/"
        },
        "id": "-SdXvNTcHIS0",
        "outputId": "168c5507-50ac-4ebe-9059-b89547d99378"
      },
      "execution_count": null,
      "outputs": [
        {
          "output_type": "stream",
          "name": "stdout",
          "text": [
            "Total of original datasets         :  15153\n",
            "---------------------------------------------\n",
            "\n",
            "Train-Covid                        :  2892\n",
            "Train-Normal                       :  8153\n",
            "Train-Viral Pneumonia              :  1076\n",
            "\n",
            "Validation-Covid                   :  362\n",
            "Validation-Normal                  :  1019\n",
            "Validation-Viral Pneumonia         :  134\n",
            "\n",
            "Test-Covid                         :  362\n",
            "Test-Normal                        :  1020\n",
            "Test-Viral Pneumonia               :  135\n",
            "---------------------------------------------\n",
            "\n",
            "Total of Train, Val, Test datasets :  15153\n"
          ]
        }
      ]
    },
    {
      "cell_type": "markdown",
      "source": [
        "Show the sample images"
      ],
      "metadata": {
        "id": "kUN3ewZvI4G7"
      }
    },
    {
      "cell_type": "code",
      "source": [
        "sampleset = RadiographyDataset(\"./Radiography_Data/train\", transform=None)\n",
        "\n",
        "image, label = sampleset[1]\n",
        "display(image)\n",
        "print(\"Class =\", sampleset.classes[label])"
      ],
      "metadata": {
        "id": "AC0_BzfUMiAG",
        "colab": {
          "base_uri": "https://localhost:8080/",
          "height": 333
        },
        "outputId": "150fa24e-c5d6-496f-c121-7a04912a50c8"
      },
      "execution_count": null,
      "outputs": [
        {
          "output_type": "display_data",
          "data": {
            "text/plain": [
              "<PIL.Image.Image image mode=RGB size=299x299 at 0x7F498182A430>"
            ],
            "image/png": "[encoded data removed]"
          },
          "metadata": {}
        },
        {
          "output_type": "stream",
          "name": "stdout",
          "text": [
            "Class = COVID\n"
          ]
        }
      ]
    },
    {
      "cell_type": "markdown",
      "source": [
        "The network layout"
      ],
      "metadata": {
        "id": "1tm4ilgeK3aL"
      }
    },
    {
      "cell_type": "code",
      "source": [
        "sample_net = Net()\n",
        "summary(sample_net, input_size=(3, 224,224))"
      ],
      "metadata": {
        "id": "wrxbdxhGgNEq",
        "colab": {
          "base_uri": "https://localhost:8080/",
          "height": 328
        },
        "outputId": "083911be-8189-4734-e058-5447d1a0dea9"
      },
      "execution_count": null,
      "outputs": [
        {
          "output_type": "error",
          "ename": "RuntimeError",
          "evalue": "ignored",
          "traceback": [
            "\u001b[0;31m---------------------------------------------------------------------------\u001b[0m",
            "\u001b[0;31mRuntimeError\u001b[0m                              Traceback (most recent call last)",
            "\u001b[0;32m<ipython-input-20-75cf18572b83>\u001b[0m in \u001b[0;36m<cell line: 2>\u001b[0;34m()\u001b[0m\n\u001b[1;32m      1\u001b[0m \u001b[0msample_net\u001b[0m \u001b[0;34m=\u001b[0m \u001b[0mNet\u001b[0m\u001b[0;34m(\u001b[0m\u001b[0;34m)\u001b[0m\u001b[0;34m\u001b[0m\u001b[0;34m\u001b[0m\u001b[0m\n\u001b[0;32m----> 2\u001b[0;31m \u001b[0msummary\u001b[0m\u001b[0;34m(\u001b[0m\u001b[0msample_net\u001b[0m\u001b[0;34m,\u001b[0m \u001b[0minput_size\u001b[0m\u001b[0;34m=\u001b[0m\u001b[0;34m(\u001b[0m\u001b[0;36m3\u001b[0m\u001b[0;34m,\u001b[0m \u001b[0;36m224\u001b[0m\u001b[0;34m,\u001b[0m\u001b[0;36m224\u001b[0m\u001b[0;34m)\u001b[0m\u001b[0;34m)\u001b[0m\u001b[0;34m\u001b[0m\u001b[0;34m\u001b[0m\u001b[0m\n\u001b[0m",
            "\u001b[0;32m/usr/local/lib/python3.9/dist-packages/torchsummary/torchsummary.py\u001b[0m in \u001b[0;36msummary\u001b[0;34m(model, input_size, batch_size, device)\u001b[0m\n\u001b[1;32m     70\u001b[0m     \u001b[0;31m# make a forward pass\u001b[0m\u001b[0;34m\u001b[0m\u001b[0;34m\u001b[0m\u001b[0m\n\u001b[1;32m     71\u001b[0m     \u001b[0;31m# print(x.shape)\u001b[0m\u001b[0;34m\u001b[0m\u001b[0;34m\u001b[0m\u001b[0m\n\u001b[0;32m---> 72\u001b[0;31m     \u001b[0mmodel\u001b[0m\u001b[0;34m(\u001b[0m\u001b[0;34m*\u001b[0m\u001b[0mx\u001b[0m\u001b[0;34m)\u001b[0m\u001b[0;34m\u001b[0m\u001b[0;34m\u001b[0m\u001b[0m\n\u001b[0m\u001b[1;32m     73\u001b[0m \u001b[0;34m\u001b[0m\u001b[0m\n\u001b[1;32m     74\u001b[0m     \u001b[0;31m# remove these hooks\u001b[0m\u001b[0;34m\u001b[0m\u001b[0;34m\u001b[0m\u001b[0m\n",
            "\u001b[0;32m/usr/local/lib/python3.9/dist-packages/torch/nn/modules/module.py\u001b[0m in \u001b[0;36m_call_impl\u001b[0;34m(self, *args, **kwargs)\u001b[0m\n\u001b[1;32m   1499\u001b[0m                 \u001b[0;32mor\u001b[0m \u001b[0m_global_backward_pre_hooks\u001b[0m \u001b[0;32mor\u001b[0m \u001b[0m_global_backward_hooks\u001b[0m\u001b[0;34m\u001b[0m\u001b[0;34m\u001b[0m\u001b[0m\n\u001b[1;32m   1500\u001b[0m                 or _global_forward_hooks or _global_forward_pre_hooks):\n\u001b[0;32m-> 1501\u001b[0;31m             \u001b[0;32mreturn\u001b[0m \u001b[0mforward_call\u001b[0m\u001b[0;34m(\u001b[0m\u001b[0;34m*\u001b[0m\u001b[0margs\u001b[0m\u001b[0;34m,\u001b[0m \u001b[0;34m**\u001b[0m\u001b[0mkwargs\u001b[0m\u001b[0;34m)\u001b[0m\u001b[0;34m\u001b[0m\u001b[0;34m\u001b[0m\u001b[0m\n\u001b[0m\u001b[1;32m   1502\u001b[0m         \u001b[0;31m# Do not call functions when jit is used\u001b[0m\u001b[0;34m\u001b[0m\u001b[0;34m\u001b[0m\u001b[0m\n\u001b[1;32m   1503\u001b[0m         \u001b[0mfull_backward_hooks\u001b[0m\u001b[0;34m,\u001b[0m \u001b[0mnon_full_backward_hooks\u001b[0m \u001b[0;34m=\u001b[0m \u001b[0;34m[\u001b[0m\u001b[0;34m]\u001b[0m\u001b[0;34m,\u001b[0m \u001b[0;34m[\u001b[0m\u001b[0;34m]\u001b[0m\u001b[0;34m\u001b[0m\u001b[0;34m\u001b[0m\u001b[0m\n",
            "\u001b[0;32m<ipython-input-8-0de3f63d9227>\u001b[0m in \u001b[0;36mforward\u001b[0;34m(self, x)\u001b[0m\n\u001b[1;32m     16\u001b[0m \u001b[0;34m\u001b[0m\u001b[0m\n\u001b[1;32m     17\u001b[0m         \u001b[0;31m# ... block 1 ...\u001b[0m\u001b[0;34m\u001b[0m\u001b[0;34m\u001b[0m\u001b[0m\n\u001b[0;32m---> 18\u001b[0;31m         \u001b[0mx\u001b[0m \u001b[0;34m=\u001b[0m \u001b[0mself\u001b[0m\u001b[0;34m.\u001b[0m\u001b[0mconv_block1\u001b[0m\u001b[0;34m(\u001b[0m\u001b[0mx\u001b[0m\u001b[0;34m)\u001b[0m\u001b[0;34m\u001b[0m\u001b[0;34m\u001b[0m\u001b[0m\n\u001b[0m\u001b[1;32m     19\u001b[0m \u001b[0;34m\u001b[0m\u001b[0m\n\u001b[1;32m     20\u001b[0m         \u001b[0;31m# max pool\u001b[0m\u001b[0;34m\u001b[0m\u001b[0;34m\u001b[0m\u001b[0m\n",
            "\u001b[0;32m/usr/local/lib/python3.9/dist-packages/torch/nn/modules/module.py\u001b[0m in \u001b[0;36m_call_impl\u001b[0;34m(self, *args, **kwargs)\u001b[0m\n\u001b[1;32m   1536\u001b[0m             \u001b[0margs\u001b[0m \u001b[0;34m=\u001b[0m \u001b[0mbw_hook\u001b[0m\u001b[0;34m.\u001b[0m\u001b[0msetup_input_hook\u001b[0m\u001b[0;34m(\u001b[0m\u001b[0margs\u001b[0m\u001b[0;34m)\u001b[0m\u001b[0;34m\u001b[0m\u001b[0;34m\u001b[0m\u001b[0m\n\u001b[1;32m   1537\u001b[0m \u001b[0;34m\u001b[0m\u001b[0m\n\u001b[0;32m-> 1538\u001b[0;31m         \u001b[0mresult\u001b[0m \u001b[0;34m=\u001b[0m \u001b[0mforward_call\u001b[0m\u001b[0;34m(\u001b[0m\u001b[0;34m*\u001b[0m\u001b[0margs\u001b[0m\u001b[0;34m,\u001b[0m \u001b[0;34m**\u001b[0m\u001b[0mkwargs\u001b[0m\u001b[0;34m)\u001b[0m\u001b[0;34m\u001b[0m\u001b[0;34m\u001b[0m\u001b[0m\n\u001b[0m\u001b[1;32m   1539\u001b[0m         \u001b[0;32mif\u001b[0m \u001b[0m_global_forward_hooks\u001b[0m \u001b[0;32mor\u001b[0m \u001b[0mself\u001b[0m\u001b[0;34m.\u001b[0m\u001b[0m_forward_hooks\u001b[0m\u001b[0;34m:\u001b[0m\u001b[0;34m\u001b[0m\u001b[0;34m\u001b[0m\u001b[0m\n\u001b[1;32m   1540\u001b[0m             for hook_id, hook in (\n",
            "\u001b[0;32m<ipython-input-7-d6b82bfd0ed0>\u001b[0m in \u001b[0;36mforward\u001b[0;34m(self, x)\u001b[0m\n\u001b[1;32m     13\u001b[0m \u001b[0;34m\u001b[0m\u001b[0m\n\u001b[1;32m     14\u001b[0m         \u001b[0;31m# ...  forward propagation ...\u001b[0m\u001b[0;34m\u001b[0m\u001b[0;34m\u001b[0m\u001b[0m\n\u001b[0;32m---> 15\u001b[0;31m         \u001b[0mx\u001b[0m \u001b[0;34m=\u001b[0m \u001b[0mF\u001b[0m\u001b[0;34m.\u001b[0m\u001b[0mrelu\u001b[0m\u001b[0;34m(\u001b[0m\u001b[0mself\u001b[0m\u001b[0;34m.\u001b[0m\u001b[0mconv1\u001b[0m\u001b[0;34m(\u001b[0m\u001b[0mx\u001b[0m\u001b[0;34m)\u001b[0m\u001b[0;34m)\u001b[0m\u001b[0;34m\u001b[0m\u001b[0;34m\u001b[0m\u001b[0m\n\u001b[0m\u001b[1;32m     16\u001b[0m         \u001b[0mx\u001b[0m \u001b[0;34m=\u001b[0m \u001b[0mF\u001b[0m\u001b[0;34m.\u001b[0m\u001b[0mrelu\u001b[0m\u001b[0;34m(\u001b[0m\u001b[0mself\u001b[0m\u001b[0;34m.\u001b[0m\u001b[0mconv2\u001b[0m\u001b[0;34m(\u001b[0m\u001b[0mx\u001b[0m\u001b[0;34m)\u001b[0m\u001b[0;34m)\u001b[0m\u001b[0;34m\u001b[0m\u001b[0;34m\u001b[0m\u001b[0m\n\u001b[1;32m     17\u001b[0m \u001b[0;34m\u001b[0m\u001b[0m\n",
            "\u001b[0;32m/usr/local/lib/python3.9/dist-packages/torch/nn/modules/module.py\u001b[0m in \u001b[0;36m_call_impl\u001b[0;34m(self, *args, **kwargs)\u001b[0m\n\u001b[1;32m   1536\u001b[0m             \u001b[0margs\u001b[0m \u001b[0;34m=\u001b[0m \u001b[0mbw_hook\u001b[0m\u001b[0;34m.\u001b[0m\u001b[0msetup_input_hook\u001b[0m\u001b[0;34m(\u001b[0m\u001b[0margs\u001b[0m\u001b[0;34m)\u001b[0m\u001b[0;34m\u001b[0m\u001b[0;34m\u001b[0m\u001b[0m\n\u001b[1;32m   1537\u001b[0m \u001b[0;34m\u001b[0m\u001b[0m\n\u001b[0;32m-> 1538\u001b[0;31m         \u001b[0mresult\u001b[0m \u001b[0;34m=\u001b[0m \u001b[0mforward_call\u001b[0m\u001b[0;34m(\u001b[0m\u001b[0;34m*\u001b[0m\u001b[0margs\u001b[0m\u001b[0;34m,\u001b[0m \u001b[0;34m**\u001b[0m\u001b[0mkwargs\u001b[0m\u001b[0;34m)\u001b[0m\u001b[0;34m\u001b[0m\u001b[0;34m\u001b[0m\u001b[0m\n\u001b[0m\u001b[1;32m   1539\u001b[0m         \u001b[0;32mif\u001b[0m \u001b[0m_global_forward_hooks\u001b[0m \u001b[0;32mor\u001b[0m \u001b[0mself\u001b[0m\u001b[0;34m.\u001b[0m\u001b[0m_forward_hooks\u001b[0m\u001b[0;34m:\u001b[0m\u001b[0;34m\u001b[0m\u001b[0;34m\u001b[0m\u001b[0m\n\u001b[1;32m   1540\u001b[0m             for hook_id, hook in (\n",
            "\u001b[0;32m/usr/local/lib/python3.9/dist-packages/torch/nn/modules/conv.py\u001b[0m in \u001b[0;36mforward\u001b[0;34m(self, input)\u001b[0m\n\u001b[1;32m    461\u001b[0m \u001b[0;34m\u001b[0m\u001b[0m\n\u001b[1;32m    462\u001b[0m     \u001b[0;32mdef\u001b[0m \u001b[0mforward\u001b[0m\u001b[0;34m(\u001b[0m\u001b[0mself\u001b[0m\u001b[0;34m,\u001b[0m \u001b[0minput\u001b[0m\u001b[0;34m:\u001b[0m \u001b[0mTensor\u001b[0m\u001b[0;34m)\u001b[0m \u001b[0;34m->\u001b[0m \u001b[0mTensor\u001b[0m\u001b[0;34m:\u001b[0m\u001b[0;34m\u001b[0m\u001b[0;34m\u001b[0m\u001b[0m\n\u001b[0;32m--> 463\u001b[0;31m         \u001b[0;32mreturn\u001b[0m \u001b[0mself\u001b[0m\u001b[0;34m.\u001b[0m\u001b[0m_conv_forward\u001b[0m\u001b[0;34m(\u001b[0m\u001b[0minput\u001b[0m\u001b[0;34m,\u001b[0m \u001b[0mself\u001b[0m\u001b[0;34m.\u001b[0m\u001b[0mweight\u001b[0m\u001b[0;34m,\u001b[0m \u001b[0mself\u001b[0m\u001b[0;34m.\u001b[0m\u001b[0mbias\u001b[0m\u001b[0;34m)\u001b[0m\u001b[0;34m\u001b[0m\u001b[0;34m\u001b[0m\u001b[0m\n\u001b[0m\u001b[1;32m    464\u001b[0m \u001b[0;34m\u001b[0m\u001b[0m\n\u001b[1;32m    465\u001b[0m \u001b[0;32mclass\u001b[0m \u001b[0mConv3d\u001b[0m\u001b[0;34m(\u001b[0m\u001b[0m_ConvNd\u001b[0m\u001b[0;34m)\u001b[0m\u001b[0;34m:\u001b[0m\u001b[0;34m\u001b[0m\u001b[0;34m\u001b[0m\u001b[0m\n",
            "\u001b[0;32m/usr/local/lib/python3.9/dist-packages/torch/nn/modules/conv.py\u001b[0m in \u001b[0;36m_conv_forward\u001b[0;34m(self, input, weight, bias)\u001b[0m\n\u001b[1;32m    457\u001b[0m                             \u001b[0mweight\u001b[0m\u001b[0;34m,\u001b[0m \u001b[0mbias\u001b[0m\u001b[0;34m,\u001b[0m \u001b[0mself\u001b[0m\u001b[0;34m.\u001b[0m\u001b[0mstride\u001b[0m\u001b[0;34m,\u001b[0m\u001b[0;34m\u001b[0m\u001b[0;34m\u001b[0m\u001b[0m\n\u001b[1;32m    458\u001b[0m                             _pair(0), self.dilation, self.groups)\n\u001b[0;32m--> 459\u001b[0;31m         return F.conv2d(input, weight, bias, self.stride,\n\u001b[0m\u001b[1;32m    460\u001b[0m                         self.padding, self.dilation, self.groups)\n\u001b[1;32m    461\u001b[0m \u001b[0;34m\u001b[0m\u001b[0m\n",
            "\u001b[0;31mRuntimeError\u001b[0m: Input type (torch.cuda.FloatTensor) and weight type (torch.FloatTensor) should be the same"
          ]
        }
      ]
    },
    {
      "cell_type": "markdown",
      "source": [
        "Transformation of images"
      ],
      "metadata": {
        "id": "Tee3lSfKI9Qj"
      }
    },
    {
      "cell_type": "code",
      "source": [
        "import torchvision.transforms as transforms\n",
        "from torch.utils.data import DataLoader\n",
        "\n",
        "# transform the model\n",
        "train_transform = transforms.Compose([\n",
        "    transforms.Resize(256),                                # output: PIL Image of resolution(256, 256)\n",
        "    transforms.RandomCrop(224),                            # output: PIL Image of resolution(224, 224)\n",
        "    transforms.RandomHorizontalFlip(),                     # output: PIL Image of resolution(224, 224)\n",
        "    transforms.ToTensor(),                                 # output: tensor, dtype = float32, shape = (3, 224, 224), range:[0, 1]\n",
        "    transforms.Normalize((0.5, 0.5, 0.5), (0.5, 0.5, 0.5)) # output: same as before except range changes such that mean = 0, std = 1\n",
        "])\n",
        "\n",
        "#val_transform = transforms.Compose([\n",
        "    #transforms.Resize(256),\n",
        "    #transforms.ToTensor(),\n",
        "    #transforms.Normalize((0.5, 0.5, 0.5), (0.5, 0.5, 0.5))\n",
        "#])"
      ],
      "metadata": {
        "id": "qyjg0llYMSUT"
      },
      "execution_count": null,
      "outputs": []
    },
    {
      "cell_type": "markdown",
      "source": [
        "Load the dataset using DataLoader"
      ],
      "metadata": {
        "id": "GV5Xj7dhJSkU"
      }
    },
    {
      "cell_type": "code",
      "source": [
        "#Load the dataset\n",
        "trainset = RadiographyDataset(\"./Radiography_Data/train\", transform=train_transform)\n",
        "#valset  = RadiographyDataset(\"./Radiography_Data/val\", transform=val_transform)\n",
        "\n",
        "batch_size = 128\n",
        "trainloader = DataLoader(trainset, batch_size=batch_size, shuffle=True, num_workers=0)\n",
        "#valloader  = DataLoader(valset, batch_size=batch_size, shuffle=True, num_workers=0)"
      ],
      "metadata": {
        "id": "bqJZOspNMZFq"
      },
      "execution_count": null,
      "outputs": []
    },
    {
      "cell_type": "markdown",
      "source": [
        "Start training"
      ],
      "metadata": {
        "id": "tMzUzMWuKUlF"
      }
    },
    {
      "cell_type": "code",
      "source": [
        "net = Net()\n",
        "train(net, trainloader, num_epochs=20, lr=0.1, momentum=0.9)"
      ],
      "metadata": {
        "id": "Lf72Z9aKfNYM",
        "colab": {
          "base_uri": "https://localhost:8080/"
        },
        "outputId": "73cf5d02-37d9-4cad-f739-d9ec34f2dd83"
      },
      "execution_count": null,
      "outputs": [
        {
          "output_type": "stream",
          "name": "stdout",
          "text": [
            "[Epoch  1 Iter    32/95]: train_loss = 1.1501\n",
            "[Epoch  1 Iter    64/95]: train_loss = 0.8384\n",
            "[Epoch  1 Iter    95/95]: train_loss = 0.8365\n",
            "[Epoch  2 Iter    32/95]: train_loss = 0.8425\n",
            "[Epoch  2 Iter    64/95]: train_loss = 0.8161\n",
            "[Epoch  2 Iter    95/95]: train_loss = 0.8323\n",
            "[Epoch  3 Iter    32/95]: train_loss = 0.8180\n",
            "[Epoch  3 Iter    64/95]: train_loss = 0.8201\n",
            "[Epoch  3 Iter    95/95]: train_loss = 0.8095\n",
            "[Epoch  4 Iter    32/95]: train_loss = 0.8033\n",
            "[Epoch  4 Iter    64/95]: train_loss = 0.8007\n",
            "[Epoch  4 Iter    95/95]: train_loss = 0.7957\n",
            "[Epoch  5 Iter    32/95]: train_loss = 0.7857\n",
            "[Epoch  5 Iter    64/95]: train_loss = 0.7922\n",
            "[Epoch  5 Iter    95/95]: train_loss = 0.7796\n",
            "[Epoch  6 Iter    32/95]: train_loss = 0.7777\n",
            "[Epoch  6 Iter    64/95]: train_loss = 0.7683\n",
            "[Epoch  6 Iter    95/95]: train_loss = 0.7497\n",
            "[Epoch  7 Iter    32/95]: train_loss = 0.7863\n",
            "[Epoch  7 Iter    64/95]: train_loss = 0.7641\n",
            "[Epoch  7 Iter    95/95]: train_loss = 0.7282\n",
            "[Epoch  8 Iter    32/95]: train_loss = 0.7487\n",
            "[Epoch  8 Iter    64/95]: train_loss = 0.7648\n",
            "[Epoch  8 Iter    95/95]: train_loss = 0.8009\n",
            "[Epoch  9 Iter    32/95]: train_loss = 0.8084\n",
            "[Epoch  9 Iter    64/95]: train_loss = 0.8147\n",
            "[Epoch  9 Iter    95/95]: train_loss = 0.7730\n",
            "[Epoch 10 Iter    32/95]: train_loss = 0.8111\n",
            "[Epoch 10 Iter    64/95]: train_loss = 0.7918\n",
            "[Epoch 10 Iter    95/95]: train_loss = 0.7895\n",
            "[Epoch 11 Iter    32/95]: train_loss = 0.7723\n",
            "[Epoch 11 Iter    64/95]: train_loss = 0.8358\n",
            "[Epoch 11 Iter    95/95]: train_loss = 0.8291\n",
            "[Epoch 12 Iter    32/95]: train_loss = 0.8038\n",
            "[Epoch 12 Iter    64/95]: train_loss = 0.7949\n",
            "[Epoch 12 Iter    95/95]: train_loss = 0.7905\n",
            "[Epoch 13 Iter    32/95]: train_loss = 0.7834\n",
            "[Epoch 13 Iter    64/95]: train_loss = 0.7852\n",
            "[Epoch 13 Iter    95/95]: train_loss = 0.7746\n",
            "[Epoch 14 Iter    32/95]: train_loss = 0.7486\n",
            "[Epoch 14 Iter    64/95]: train_loss = 0.7789\n",
            "[Epoch 14 Iter    95/95]: train_loss = 0.7708\n",
            "[Epoch 15 Iter    32/95]: train_loss = 0.7446\n",
            "[Epoch 15 Iter    64/95]: train_loss = 0.7486\n",
            "[Epoch 15 Iter    95/95]: train_loss = 0.7310\n",
            "[Epoch 16 Iter    32/95]: train_loss = 0.7330\n",
            "[Epoch 16 Iter    64/95]: train_loss = 0.7078\n",
            "[Epoch 16 Iter    95/95]: train_loss = 0.7182\n",
            "[Epoch 17 Iter    32/95]: train_loss = 0.6894\n",
            "[Epoch 17 Iter    64/95]: train_loss = 0.6624\n",
            "[Epoch 17 Iter    95/95]: train_loss = 0.6705\n",
            "[Epoch 18 Iter    32/95]: train_loss = 0.6505\n",
            "[Epoch 18 Iter    64/95]: train_loss = 0.6965\n",
            "[Epoch 18 Iter    95/95]: train_loss = 0.6806\n",
            "[Epoch 19 Iter    32/95]: train_loss = 0.6463\n",
            "[Epoch 19 Iter    64/95]: train_loss = 0.6499\n",
            "[Epoch 19 Iter    95/95]: train_loss = 0.6620\n",
            "[Epoch 20 Iter    32/95]: train_loss = 0.6478\n",
            "[Epoch 20 Iter    64/95]: train_loss = 0.6385\n",
            "[Epoch 20 Iter    95/95]: train_loss = 0.6344\n",
            "Training completed.\n"
          ]
        }
      ]
    },
    {
      "cell_type": "markdown",
      "source": [
        "Evaluate model"
      ],
      "metadata": {
        "id": "wjDEJS3qStI1"
      }
    },
    {
      "cell_type": "code",
      "source": [
        "# transform the model\n",
        "val_transform = transforms.Compose([\n",
        "    transforms.Resize(256),\n",
        "    transforms.CenterCrop(224),\n",
        "    transforms.ToTensor(),\n",
        "    transforms.Normalize((0.5, 0.5, 0.5), (0.5, 0.5, 0.5))\n",
        "])\n",
        "\n",
        "batch_size = 128\n",
        "testset = RadiographyDataset(\"./Radiography_Data/val\", transform=val_transform)\n",
        "testloader = DataLoader(testset, batch_size=batch_size, shuffle=True, num_workers=0)"
      ],
      "metadata": {
        "id": "8H_-ZNi9SaV8"
      },
      "execution_count": null,
      "outputs": []
    },
    {
      "cell_type": "code",
      "source": [
        "evaluate(net, testloader)"
      ],
      "metadata": {
        "colab": {
          "base_uri": "https://localhost:8080/"
        },
        "id": "n2OWhsxvi2sS",
        "outputId": "c27801e3-545d-45e0-9224-9fffed081cfb"
      },
      "execution_count": null,
      "outputs": [
        {
          "output_type": "stream",
          "name": "stdout",
          "text": [
            "Accuracy = 71.35%\n"
          ]
        }
      ]
    }
  ]
}